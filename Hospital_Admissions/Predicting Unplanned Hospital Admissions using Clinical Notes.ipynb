{
  "cells": [
    {
      "cell_type": "markdown",
      "metadata": {
        "id": "xgNF54wPbjzS"
      },
      "source": [
        "# Setup"
      ]
    },
    {
      "cell_type": "code",
      "execution_count": 1,
      "metadata": {
        "colab": {
          "base_uri": "https://localhost:8080/"
        },
        "id": "xPIqjQ1h7z9m",
        "outputId": "94ba89e8-4695-4377-8717-76bae6c8dc9a"
      },
      "outputs": [
        {
          "output_type": "stream",
          "name": "stdout",
          "text": [
            "Collecting transformers\n",
            "  Downloading transformers-4.31.0-py3-none-any.whl (7.4 MB)\n",
            "\u001b[2K     \u001b[90m━━━━━━━━━━━━━━━━━━━━━━━━━━━━━━━━━━━━━━━━\u001b[0m \u001b[32m7.4/7.4 MB\u001b[0m \u001b[31m58.9 MB/s\u001b[0m eta \u001b[36m0:00:00\u001b[0m\n",
            "\u001b[?25hRequirement already satisfied: filelock in /usr/local/lib/python3.10/dist-packages (from transformers) (3.12.2)\n",
            "Collecting huggingface-hub<1.0,>=0.14.1 (from transformers)\n",
            "  Downloading huggingface_hub-0.16.4-py3-none-any.whl (268 kB)\n",
            "\u001b[2K     \u001b[90m━━━━━━━━━━━━━━━━━━━━━━━━━━━━━━━━━━━━━━\u001b[0m \u001b[32m268.8/268.8 kB\u001b[0m \u001b[31m34.2 MB/s\u001b[0m eta \u001b[36m0:00:00\u001b[0m\n",
            "\u001b[?25hRequirement already satisfied: numpy>=1.17 in /usr/local/lib/python3.10/dist-packages (from transformers) (1.22.4)\n",
            "Requirement already satisfied: packaging>=20.0 in /usr/local/lib/python3.10/dist-packages (from transformers) (23.1)\n",
            "Requirement already satisfied: pyyaml>=5.1 in /usr/local/lib/python3.10/dist-packages (from transformers) (6.0.1)\n",
            "Requirement already satisfied: regex!=2019.12.17 in /usr/local/lib/python3.10/dist-packages (from transformers) (2022.10.31)\n",
            "Requirement already satisfied: requests in /usr/local/lib/python3.10/dist-packages (from transformers) (2.27.1)\n",
            "Collecting tokenizers!=0.11.3,<0.14,>=0.11.1 (from transformers)\n",
            "  Downloading tokenizers-0.13.3-cp310-cp310-manylinux_2_17_x86_64.manylinux2014_x86_64.whl (7.8 MB)\n",
            "\u001b[2K     \u001b[90m━━━━━━━━━━━━━━━━━━━━━━━━━━━━━━━━━━━━━━━━\u001b[0m \u001b[32m7.8/7.8 MB\u001b[0m \u001b[31m123.0 MB/s\u001b[0m eta \u001b[36m0:00:00\u001b[0m\n",
            "\u001b[?25hCollecting safetensors>=0.3.1 (from transformers)\n",
            "  Downloading safetensors-0.3.1-cp310-cp310-manylinux_2_17_x86_64.manylinux2014_x86_64.whl (1.3 MB)\n",
            "\u001b[2K     \u001b[90m━━━━━━━━━━━━━━━━━━━━━━━━━━━━━━━━━━━━━━━━\u001b[0m \u001b[32m1.3/1.3 MB\u001b[0m \u001b[31m82.7 MB/s\u001b[0m eta \u001b[36m0:00:00\u001b[0m\n",
            "\u001b[?25hRequirement already satisfied: tqdm>=4.27 in /usr/local/lib/python3.10/dist-packages (from transformers) (4.65.0)\n",
            "Requirement already satisfied: fsspec in /usr/local/lib/python3.10/dist-packages (from huggingface-hub<1.0,>=0.14.1->transformers) (2023.6.0)\n",
            "Requirement already satisfied: typing-extensions>=3.7.4.3 in /usr/local/lib/python3.10/dist-packages (from huggingface-hub<1.0,>=0.14.1->transformers) (4.7.1)\n",
            "Requirement already satisfied: urllib3<1.27,>=1.21.1 in /usr/local/lib/python3.10/dist-packages (from requests->transformers) (1.26.16)\n",
            "Requirement already satisfied: certifi>=2017.4.17 in /usr/local/lib/python3.10/dist-packages (from requests->transformers) (2023.7.22)\n",
            "Requirement already satisfied: charset-normalizer~=2.0.0 in /usr/local/lib/python3.10/dist-packages (from requests->transformers) (2.0.12)\n",
            "Requirement already satisfied: idna<4,>=2.5 in /usr/local/lib/python3.10/dist-packages (from requests->transformers) (3.4)\n",
            "Installing collected packages: tokenizers, safetensors, huggingface-hub, transformers\n",
            "Successfully installed huggingface-hub-0.16.4 safetensors-0.3.1 tokenizers-0.13.3 transformers-4.31.0\n"
          ]
        }
      ],
      "source": [
        "!pip install transformers"
      ]
    },
    {
      "cell_type": "code",
      "execution_count": 2,
      "metadata": {
        "colab": {
          "base_uri": "https://localhost:8080/"
        },
        "id": "6HTCu8gzfxWe",
        "outputId": "d58e276e-6281-438a-be8a-e0f1265bdf2d"
      },
      "outputs": [
        {
          "output_type": "stream",
          "name": "stdout",
          "text": [
            "\u001b[2K     \u001b[90m━━━━━━━━━━━━━━━━━━━━━━━━━━━━━━━━━━━━━━━━\u001b[0m \u001b[32m5.8/5.8 MB\u001b[0m \u001b[31m41.5 MB/s\u001b[0m eta \u001b[36m0:00:00\u001b[0m\n",
            "\u001b[2K     \u001b[90m━━━━━━━━━━━━━━━━━━━━━━━━━━━━━━━━━━━━━━━\u001b[0m \u001b[32m588.3/588.3 MB\u001b[0m \u001b[31m1.9 MB/s\u001b[0m eta \u001b[36m0:00:00\u001b[0m\n",
            "\u001b[2K     \u001b[90m━━━━━━━━━━━━━━━━━━━━━━━━━━━━━━━━━━━━━━━━\u001b[0m \u001b[32m1.7/1.7 MB\u001b[0m \u001b[31m91.7 MB/s\u001b[0m eta \u001b[36m0:00:00\u001b[0m\n",
            "\u001b[2K     \u001b[90m━━━━━━━━━━━━━━━━━━━━━━━━━━━━━━━━━━━━━━━━\u001b[0m \u001b[32m1.1/1.1 MB\u001b[0m \u001b[31m56.9 MB/s\u001b[0m eta \u001b[36m0:00:00\u001b[0m\n",
            "\u001b[2K     \u001b[90m━━━━━━━━━━━━━━━━━━━━━━━━━━━━━━━━━━━━━━━━\u001b[0m \u001b[32m6.0/6.0 MB\u001b[0m \u001b[31m111.8 MB/s\u001b[0m eta \u001b[36m0:00:00\u001b[0m\n",
            "\u001b[2K     \u001b[90m━━━━━━━━━━━━━━━━━━━━━━━━━━━━━━━━━━━━━━\u001b[0m \u001b[32m439.2/439.2 kB\u001b[0m \u001b[31m43.7 MB/s\u001b[0m eta \u001b[36m0:00:00\u001b[0m\n",
            "\u001b[2K     \u001b[90m━━━━━━━━━━━━━━━━━━━━━━━━━━━━━━━━━━━━━━━━\u001b[0m \u001b[32m4.9/4.9 MB\u001b[0m \u001b[31m110.2 MB/s\u001b[0m eta \u001b[36m0:00:00\u001b[0m\n",
            "\u001b[2K     \u001b[90m━━━━━━━━━━━━━━━━━━━━━━━━━━━━━━━━━━━━━━\u001b[0m \u001b[32m781.3/781.3 kB\u001b[0m \u001b[31m67.0 MB/s\u001b[0m eta \u001b[36m0:00:00\u001b[0m\n",
            "\u001b[?25h\u001b[31mERROR: pip's dependency resolver does not currently take into account all the packages that are installed. This behaviour is the source of the following dependency conflicts.\n",
            "tensorflow-datasets 4.9.2 requires protobuf>=3.20, but you have protobuf 3.19.6 which is incompatible.\n",
            "tensorflow-metadata 1.13.1 requires protobuf<5,>=3.20.3, but you have protobuf 3.19.6 which is incompatible.\u001b[0m\u001b[31m\n",
            "\u001b[0m"
          ]
        }
      ],
      "source": [
        "!pip install -q -U \"tensorflow-text==2.11.*\""
      ]
    },
    {
      "cell_type": "code",
      "execution_count": 6,
      "metadata": {
        "colab": {
          "base_uri": "https://localhost:8080/"
        },
        "id": "m-zXeLn9U7w-",
        "outputId": "9f0070ae-56ad-4de2-feec-d77ee9429de4"
      },
      "outputs": [
        {
          "output_type": "stream",
          "name": "stdout",
          "text": [
            "Mounted at /content/drive\n"
          ]
        }
      ],
      "source": [
        "from google.colab import drive\n",
        "drive.mount('/content/drive', force_remount=True)"
      ]
    },
    {
      "cell_type": "code",
      "execution_count": 7,
      "metadata": {
        "id": "FJV6IL29TJ0O"
      },
      "outputs": [],
      "source": [
        "import pandas as pd\n",
        "import numpy as np\n",
        "\n",
        "from sklearn.model_selection import train_test_split\n",
        "from sklearn.linear_model import LogisticRegression\n",
        "from sklearn.metrics import mean_squared_error, confusion_matrix, classification_report\n",
        "from sklearn.preprocessing import LabelEncoder\n",
        "\n",
        "from imblearn.under_sampling import NearMiss\n",
        "\n",
        "import re\n",
        "import nltk\n",
        "from nltk.data import find\n",
        "from nltk.corpus import stopwords\n",
        "import string\n",
        "\n",
        "from transformers import TFBertModel, BertTokenizer\n",
        "\n",
        "import tensorflow as tf\n",
        "import tensorflow_text as tf_text\n",
        "from tensorflow.keras.models import Model\n",
        "from tensorflow.keras.layers import Embedding, Input, Dense, Dropout, Conv1D, GlobalMaxPooling1D, concatenate\n",
        "from tensorflow.keras.optimizers import Adam\n",
        "\n",
        "import gensim\n",
        "from gensim.models import Word2Vec\n",
        "from gensim.models import KeyedVectors\n",
        "from gensim.test.utils import datapath\n",
        "\n",
        "import os\n",
        "\n",
        "MAX_SEQUENCE_LENGTH=100"
      ]
    },
    {
      "cell_type": "markdown",
      "metadata": {
        "id": "uoa6ry-4bw4z"
      },
      "source": [
        "# Data Imports\n",
        "\n",
        "\n",
        "\n",
        "\n"
      ]
    },
    {
      "cell_type": "markdown",
      "metadata": {
        "id": "6fyIaX0k8EKX"
      },
      "source": [
        "Data was filtered using BigQuery in Google Cloud, using the following SQL query:\n",
        "\n",
        "    WITH top_10_dx_unplanned as\n",
        "      (SELECT distinct d.icd9_code,\n",
        "                      count(*) as dx_count\n",
        "      FROM `physionet-data.mimiciii_clinical.diagnoses_icd` as d\n",
        "      JOIN `physionet-data.mimiciii_clinical.admissions` as a\n",
        "        ON d.subject_id = a.SUBJECT_ID and d.hadm_id = a.HADM_ID\n",
        "      WHERE a.ADMISSION_TYPE in ('EMERGENCY', 'URGENT')\n",
        "      GROUP BY icd9_code\n",
        "      ORDER BY dx_count desc\n",
        "      LIMIT 10),\n",
        "\n",
        "      top_10_dx_planned as\n",
        "      (SELECT distinct d.icd9_code,\n",
        "                      count(*) as dx_count\n",
        "      FROM `physionet-data.mimiciii_clinical.diagnoses_icd` as d\n",
        "      JOIN `physionet-data.mimiciii_clinical.admissions` as a\n",
        "        ON d.subject_id = a.SUBJECT_ID and d.hadm_id = a.HADM_ID\n",
        "      WHERE a.ADMISSION_TYPE = 'ELECTIVE'\n",
        "      GROUP BY icd9_code\n",
        "      ORDER BY dx_count desc\n",
        "      LIMIT 10)\n",
        "\n",
        "    SELECT d.subject_id,\n",
        "          d.hadm_id,\n",
        "          a.ADMISSION_TYPE as admission_type,\n",
        "          p.icd9_code as primary_px_ICD9,\n",
        "          d.ICD9_CODE as primary_dx_ICD9,\n",
        "          n.TEXT as note_text,\n",
        "          CASE WHEN a.ADMISSION_TYPE in ('EMERGENCY', 'URGENT') THEN 1\n",
        "          ELSE 0\n",
        "          END AS UHA\n",
        "    FROM `physionet-data.mimiciii_clinical.procedures_icd` as p\n",
        "    JOIN `physionet-data.mimiciii_clinical.diagnoses_icd` as d\n",
        "      ON p.subject_id = d.SUBJECT_ID and p.hadm_id = d.HADM_ID\n",
        "    JOIN `physionet-data.mimiciii_notes.noteevents` as n\n",
        "      ON p.subject_id = n.SUBJECT_ID and p.hadm_id = n.HADM_ID\n",
        "    JOIN `physionet-data.mimiciii_clinical.admissions` as a\n",
        "      ON p.subject_id = a.SUBJECT_ID and p.hadm_id = a.HADM_ID\n",
        "    WHERE p.seq_num = 1 and d.SEQ_NUM = 1 and (d.icd9_code in (SELECT icd9_code FROM top_10_dx_unplanned) OR d.icd9_code in (SELECT icd9_code FROM top_10_dx_planned))\n",
        "    ORDER BY subject_id, hadm_id"
      ]
    },
    {
      "cell_type": "code",
      "execution_count": 9,
      "metadata": {
        "colab": {
          "base_uri": "https://localhost:8080/",
          "height": 206
        },
        "id": "0lyFMmiHZHGM",
        "outputId": "de6c8696-df69-40f9-ffea-53550be59b1b"
      },
      "outputs": [
        {
          "output_type": "execute_result",
          "data": {
            "text/plain": [
              "   subject_id  hadm_id admission_type  primary_px_ICD9  primary_dx_ICD9  \\\n",
              "0          13   143045      EMERGENCY             3612            41401   \n",
              "1          13   143045      EMERGENCY             3612            41401   \n",
              "2          13   143045      EMERGENCY             3612            41401   \n",
              "3          13   143045      EMERGENCY             3612            41401   \n",
              "4          13   143045      EMERGENCY             3612            41401   \n",
              "\n",
              "                                           note_text  UHA  \n",
              "0  [**2167-1-9**] 4:51 PM\\n CHEST (PORTABLE AP) I...    1  \n",
              "1  CCU ADMISSION NPN 1900-0700: LEFT MAIN\\nHPI: I...    1  \n",
              "2  Sinus rhythm/ Non-diagnostic inferior and late...    1  \n",
              "3  Admission Date:  [**2167-1-8**]       Discharg...    1  \n",
              "4  ALTERED CARDIAC STATUS\\nS: \"I HAVE TO USE THAT...    1  "
            ],
            "text/html": [
              "\n",
              "\n",
              "  <div id=\"df-eac50196-b96c-43a4-83b8-df0599fa2315\">\n",
              "    <div class=\"colab-df-container\">\n",
              "      <div>\n",
              "<style scoped>\n",
              "    .dataframe tbody tr th:only-of-type {\n",
              "        vertical-align: middle;\n",
              "    }\n",
              "\n",
              "    .dataframe tbody tr th {\n",
              "        vertical-align: top;\n",
              "    }\n",
              "\n",
              "    .dataframe thead th {\n",
              "        text-align: right;\n",
              "    }\n",
              "</style>\n",
              "<table border=\"1\" class=\"dataframe\">\n",
              "  <thead>\n",
              "    <tr style=\"text-align: right;\">\n",
              "      <th></th>\n",
              "      <th>subject_id</th>\n",
              "      <th>hadm_id</th>\n",
              "      <th>admission_type</th>\n",
              "      <th>primary_px_ICD9</th>\n",
              "      <th>primary_dx_ICD9</th>\n",
              "      <th>note_text</th>\n",
              "      <th>UHA</th>\n",
              "    </tr>\n",
              "  </thead>\n",
              "  <tbody>\n",
              "    <tr>\n",
              "      <th>0</th>\n",
              "      <td>13</td>\n",
              "      <td>143045</td>\n",
              "      <td>EMERGENCY</td>\n",
              "      <td>3612</td>\n",
              "      <td>41401</td>\n",
              "      <td>[**2167-1-9**] 4:51 PM\\n CHEST (PORTABLE AP) I...</td>\n",
              "      <td>1</td>\n",
              "    </tr>\n",
              "    <tr>\n",
              "      <th>1</th>\n",
              "      <td>13</td>\n",
              "      <td>143045</td>\n",
              "      <td>EMERGENCY</td>\n",
              "      <td>3612</td>\n",
              "      <td>41401</td>\n",
              "      <td>CCU ADMISSION NPN 1900-0700: LEFT MAIN\\nHPI: I...</td>\n",
              "      <td>1</td>\n",
              "    </tr>\n",
              "    <tr>\n",
              "      <th>2</th>\n",
              "      <td>13</td>\n",
              "      <td>143045</td>\n",
              "      <td>EMERGENCY</td>\n",
              "      <td>3612</td>\n",
              "      <td>41401</td>\n",
              "      <td>Sinus rhythm/ Non-diagnostic inferior and late...</td>\n",
              "      <td>1</td>\n",
              "    </tr>\n",
              "    <tr>\n",
              "      <th>3</th>\n",
              "      <td>13</td>\n",
              "      <td>143045</td>\n",
              "      <td>EMERGENCY</td>\n",
              "      <td>3612</td>\n",
              "      <td>41401</td>\n",
              "      <td>Admission Date:  [**2167-1-8**]       Discharg...</td>\n",
              "      <td>1</td>\n",
              "    </tr>\n",
              "    <tr>\n",
              "      <th>4</th>\n",
              "      <td>13</td>\n",
              "      <td>143045</td>\n",
              "      <td>EMERGENCY</td>\n",
              "      <td>3612</td>\n",
              "      <td>41401</td>\n",
              "      <td>ALTERED CARDIAC STATUS\\nS: \"I HAVE TO USE THAT...</td>\n",
              "      <td>1</td>\n",
              "    </tr>\n",
              "  </tbody>\n",
              "</table>\n",
              "</div>\n",
              "      <button class=\"colab-df-convert\" onclick=\"convertToInteractive('df-eac50196-b96c-43a4-83b8-df0599fa2315')\"\n",
              "              title=\"Convert this dataframe to an interactive table.\"\n",
              "              style=\"display:none;\">\n",
              "\n",
              "  <svg xmlns=\"http://www.w3.org/2000/svg\" height=\"24px\"viewBox=\"0 0 24 24\"\n",
              "       width=\"24px\">\n",
              "    <path d=\"M0 0h24v24H0V0z\" fill=\"none\"/>\n",
              "    <path d=\"M18.56 5.44l.94 2.06.94-2.06 2.06-.94-2.06-.94-.94-2.06-.94 2.06-2.06.94zm-11 1L8.5 8.5l.94-2.06 2.06-.94-2.06-.94L8.5 2.5l-.94 2.06-2.06.94zm10 10l.94 2.06.94-2.06 2.06-.94-2.06-.94-.94-2.06-.94 2.06-2.06.94z\"/><path d=\"M17.41 7.96l-1.37-1.37c-.4-.4-.92-.59-1.43-.59-.52 0-1.04.2-1.43.59L10.3 9.45l-7.72 7.72c-.78.78-.78 2.05 0 2.83L4 21.41c.39.39.9.59 1.41.59.51 0 1.02-.2 1.41-.59l7.78-7.78 2.81-2.81c.8-.78.8-2.07 0-2.86zM5.41 20L4 18.59l7.72-7.72 1.47 1.35L5.41 20z\"/>\n",
              "  </svg>\n",
              "      </button>\n",
              "\n",
              "\n",
              "\n",
              "    <div id=\"df-b551d316-8609-456c-904e-492391424294\">\n",
              "      <button class=\"colab-df-quickchart\" onclick=\"quickchart('df-b551d316-8609-456c-904e-492391424294')\"\n",
              "              title=\"Suggest charts.\"\n",
              "              style=\"display:none;\">\n",
              "\n",
              "<svg xmlns=\"http://www.w3.org/2000/svg\" height=\"24px\"viewBox=\"0 0 24 24\"\n",
              "     width=\"24px\">\n",
              "    <g>\n",
              "        <path d=\"M19 3H5c-1.1 0-2 .9-2 2v14c0 1.1.9 2 2 2h14c1.1 0 2-.9 2-2V5c0-1.1-.9-2-2-2zM9 17H7v-7h2v7zm4 0h-2V7h2v10zm4 0h-2v-4h2v4z\"/>\n",
              "    </g>\n",
              "</svg>\n",
              "      </button>\n",
              "    </div>\n",
              "\n",
              "<style>\n",
              "  .colab-df-quickchart {\n",
              "    background-color: #E8F0FE;\n",
              "    border: none;\n",
              "    border-radius: 50%;\n",
              "    cursor: pointer;\n",
              "    display: none;\n",
              "    fill: #1967D2;\n",
              "    height: 32px;\n",
              "    padding: 0 0 0 0;\n",
              "    width: 32px;\n",
              "  }\n",
              "\n",
              "  .colab-df-quickchart:hover {\n",
              "    background-color: #E2EBFA;\n",
              "    box-shadow: 0px 1px 2px rgba(60, 64, 67, 0.3), 0px 1px 3px 1px rgba(60, 64, 67, 0.15);\n",
              "    fill: #174EA6;\n",
              "  }\n",
              "\n",
              "  [theme=dark] .colab-df-quickchart {\n",
              "    background-color: #3B4455;\n",
              "    fill: #D2E3FC;\n",
              "  }\n",
              "\n",
              "  [theme=dark] .colab-df-quickchart:hover {\n",
              "    background-color: #434B5C;\n",
              "    box-shadow: 0px 1px 3px 1px rgba(0, 0, 0, 0.15);\n",
              "    filter: drop-shadow(0px 1px 2px rgba(0, 0, 0, 0.3));\n",
              "    fill: #FFFFFF;\n",
              "  }\n",
              "</style>\n",
              "\n",
              "    <script>\n",
              "      async function quickchart(key) {\n",
              "        const containerElement = document.querySelector('#' + key);\n",
              "        const charts = await google.colab.kernel.invokeFunction(\n",
              "            'suggestCharts', [key], {});\n",
              "      }\n",
              "    </script>\n",
              "\n",
              "      <script>\n",
              "\n",
              "function displayQuickchartButton(domScope) {\n",
              "  let quickchartButtonEl =\n",
              "    domScope.querySelector('#df-b551d316-8609-456c-904e-492391424294 button.colab-df-quickchart');\n",
              "  quickchartButtonEl.style.display =\n",
              "    google.colab.kernel.accessAllowed ? 'block' : 'none';\n",
              "}\n",
              "\n",
              "        displayQuickchartButton(document);\n",
              "      </script>\n",
              "      <style>\n",
              "    .colab-df-container {\n",
              "      display:flex;\n",
              "      flex-wrap:wrap;\n",
              "      gap: 12px;\n",
              "    }\n",
              "\n",
              "    .colab-df-convert {\n",
              "      background-color: #E8F0FE;\n",
              "      border: none;\n",
              "      border-radius: 50%;\n",
              "      cursor: pointer;\n",
              "      display: none;\n",
              "      fill: #1967D2;\n",
              "      height: 32px;\n",
              "      padding: 0 0 0 0;\n",
              "      width: 32px;\n",
              "    }\n",
              "\n",
              "    .colab-df-convert:hover {\n",
              "      background-color: #E2EBFA;\n",
              "      box-shadow: 0px 1px 2px rgba(60, 64, 67, 0.3), 0px 1px 3px 1px rgba(60, 64, 67, 0.15);\n",
              "      fill: #174EA6;\n",
              "    }\n",
              "\n",
              "    [theme=dark] .colab-df-convert {\n",
              "      background-color: #3B4455;\n",
              "      fill: #D2E3FC;\n",
              "    }\n",
              "\n",
              "    [theme=dark] .colab-df-convert:hover {\n",
              "      background-color: #434B5C;\n",
              "      box-shadow: 0px 1px 3px 1px rgba(0, 0, 0, 0.15);\n",
              "      filter: drop-shadow(0px 1px 2px rgba(0, 0, 0, 0.3));\n",
              "      fill: #FFFFFF;\n",
              "    }\n",
              "  </style>\n",
              "\n",
              "      <script>\n",
              "        const buttonEl =\n",
              "          document.querySelector('#df-eac50196-b96c-43a4-83b8-df0599fa2315 button.colab-df-convert');\n",
              "        buttonEl.style.display =\n",
              "          google.colab.kernel.accessAllowed ? 'block' : 'none';\n",
              "\n",
              "        async function convertToInteractive(key) {\n",
              "          const element = document.querySelector('#df-eac50196-b96c-43a4-83b8-df0599fa2315');\n",
              "          const dataTable =\n",
              "            await google.colab.kernel.invokeFunction('convertToInteractive',\n",
              "                                                     [key], {});\n",
              "          if (!dataTable) return;\n",
              "\n",
              "          const docLinkHtml = 'Like what you see? Visit the ' +\n",
              "            '<a target=\"_blank\" href=https://colab.research.google.com/notebooks/data_table.ipynb>data table notebook</a>'\n",
              "            + ' to learn more about interactive tables.';\n",
              "          element.innerHTML = '';\n",
              "          dataTable['output_type'] = 'display_data';\n",
              "          await google.colab.output.renderOutput(dataTable, element);\n",
              "          const docLink = document.createElement('div');\n",
              "          docLink.innerHTML = docLinkHtml;\n",
              "          element.appendChild(docLink);\n",
              "        }\n",
              "      </script>\n",
              "    </div>\n",
              "  </div>\n"
            ]
          },
          "metadata": {},
          "execution_count": 9
        }
      ],
      "source": [
        "df = pd.read_csv('/content/drive/MyDrive/W266 Final Project/Data/DX_Top_10.csv', low_memory=False)\n",
        "df.head()"
      ]
    },
    {
      "cell_type": "markdown",
      "metadata": {
        "id": "pg41PfErCCfr"
      },
      "source": [
        "# Baseline Logistic Model - DX + PX only"
      ]
    },
    {
      "cell_type": "code",
      "execution_count": 10,
      "metadata": {
        "id": "TCh_I0aRD7tQ"
      },
      "outputs": [],
      "source": [
        "df_baseline = df[['primary_dx_ICD9', 'primary_px_ICD9', 'UHA']]"
      ]
    },
    {
      "cell_type": "code",
      "execution_count": 11,
      "metadata": {
        "colab": {
          "base_uri": "https://localhost:8080/"
        },
        "id": "dbKxJdzgpTZB",
        "outputId": "bcece2d1-c9c9-4640-828e-8ccf198660cb"
      },
      "outputs": [
        {
          "output_type": "execute_result",
          "data": {
            "text/plain": [
              "1    142572\n",
              "0     39853\n",
              "Name: UHA, dtype: int64"
            ]
          },
          "metadata": {},
          "execution_count": 11
        }
      ],
      "source": [
        "df_baseline['UHA'].value_counts()"
      ]
    },
    {
      "cell_type": "code",
      "execution_count": 12,
      "metadata": {
        "id": "wfJ-osqUCBcw"
      },
      "outputs": [],
      "source": [
        "X_baseline = df_baseline.drop(\"UHA\", axis=1).values\n",
        "y_baseline = df_baseline[\"UHA\"].values"
      ]
    },
    {
      "cell_type": "code",
      "execution_count": 13,
      "metadata": {
        "id": "U6jbsaRWVJ1E"
      },
      "outputs": [],
      "source": [
        "# Undersample the positive class using NearMiss algorithm (looks for nearest neighbors between classes)\n",
        "nm1 = NearMiss(version=1)\n",
        "X_resampled_baseline, y_resampled_baseline = nm1.fit_resample(X_baseline, y_baseline)"
      ]
    },
    {
      "cell_type": "code",
      "execution_count": 14,
      "metadata": {
        "id": "oHoeNrVaEoVc"
      },
      "outputs": [],
      "source": [
        "# Train/Test Split\n",
        "X_train_baseline, X_test_baseline, y_train_baseline, y_test_baseline = train_test_split(X_resampled_baseline, y_resampled_baseline, test_size=0.2, random_state=42)"
      ]
    },
    {
      "cell_type": "code",
      "execution_count": 15,
      "metadata": {
        "id": "JOf1PaKEE0EK"
      },
      "outputs": [],
      "source": [
        "baseline_model = LogisticRegression(max_iter=500)"
      ]
    },
    {
      "cell_type": "code",
      "execution_count": 16,
      "metadata": {
        "colab": {
          "base_uri": "https://localhost:8080/",
          "height": 75
        },
        "id": "uZ0pDkbrFG0N",
        "outputId": "5fd8d0cb-181b-4381-92be-e7e4d5bf16ca"
      },
      "outputs": [
        {
          "output_type": "execute_result",
          "data": {
            "text/plain": [
              "LogisticRegression(max_iter=500)"
            ],
            "text/html": [
              "<style>#sk-container-id-1 {color: black;background-color: white;}#sk-container-id-1 pre{padding: 0;}#sk-container-id-1 div.sk-toggleable {background-color: white;}#sk-container-id-1 label.sk-toggleable__label {cursor: pointer;display: block;width: 100%;margin-bottom: 0;padding: 0.3em;box-sizing: border-box;text-align: center;}#sk-container-id-1 label.sk-toggleable__label-arrow:before {content: \"▸\";float: left;margin-right: 0.25em;color: #696969;}#sk-container-id-1 label.sk-toggleable__label-arrow:hover:before {color: black;}#sk-container-id-1 div.sk-estimator:hover label.sk-toggleable__label-arrow:before {color: black;}#sk-container-id-1 div.sk-toggleable__content {max-height: 0;max-width: 0;overflow: hidden;text-align: left;background-color: #f0f8ff;}#sk-container-id-1 div.sk-toggleable__content pre {margin: 0.2em;color: black;border-radius: 0.25em;background-color: #f0f8ff;}#sk-container-id-1 input.sk-toggleable__control:checked~div.sk-toggleable__content {max-height: 200px;max-width: 100%;overflow: auto;}#sk-container-id-1 input.sk-toggleable__control:checked~label.sk-toggleable__label-arrow:before {content: \"▾\";}#sk-container-id-1 div.sk-estimator input.sk-toggleable__control:checked~label.sk-toggleable__label {background-color: #d4ebff;}#sk-container-id-1 div.sk-label input.sk-toggleable__control:checked~label.sk-toggleable__label {background-color: #d4ebff;}#sk-container-id-1 input.sk-hidden--visually {border: 0;clip: rect(1px 1px 1px 1px);clip: rect(1px, 1px, 1px, 1px);height: 1px;margin: -1px;overflow: hidden;padding: 0;position: absolute;width: 1px;}#sk-container-id-1 div.sk-estimator {font-family: monospace;background-color: #f0f8ff;border: 1px dotted black;border-radius: 0.25em;box-sizing: border-box;margin-bottom: 0.5em;}#sk-container-id-1 div.sk-estimator:hover {background-color: #d4ebff;}#sk-container-id-1 div.sk-parallel-item::after {content: \"\";width: 100%;border-bottom: 1px solid gray;flex-grow: 1;}#sk-container-id-1 div.sk-label:hover label.sk-toggleable__label {background-color: #d4ebff;}#sk-container-id-1 div.sk-serial::before {content: \"\";position: absolute;border-left: 1px solid gray;box-sizing: border-box;top: 0;bottom: 0;left: 50%;z-index: 0;}#sk-container-id-1 div.sk-serial {display: flex;flex-direction: column;align-items: center;background-color: white;padding-right: 0.2em;padding-left: 0.2em;position: relative;}#sk-container-id-1 div.sk-item {position: relative;z-index: 1;}#sk-container-id-1 div.sk-parallel {display: flex;align-items: stretch;justify-content: center;background-color: white;position: relative;}#sk-container-id-1 div.sk-item::before, #sk-container-id-1 div.sk-parallel-item::before {content: \"\";position: absolute;border-left: 1px solid gray;box-sizing: border-box;top: 0;bottom: 0;left: 50%;z-index: -1;}#sk-container-id-1 div.sk-parallel-item {display: flex;flex-direction: column;z-index: 1;position: relative;background-color: white;}#sk-container-id-1 div.sk-parallel-item:first-child::after {align-self: flex-end;width: 50%;}#sk-container-id-1 div.sk-parallel-item:last-child::after {align-self: flex-start;width: 50%;}#sk-container-id-1 div.sk-parallel-item:only-child::after {width: 0;}#sk-container-id-1 div.sk-dashed-wrapped {border: 1px dashed gray;margin: 0 0.4em 0.5em 0.4em;box-sizing: border-box;padding-bottom: 0.4em;background-color: white;}#sk-container-id-1 div.sk-label label {font-family: monospace;font-weight: bold;display: inline-block;line-height: 1.2em;}#sk-container-id-1 div.sk-label-container {text-align: center;}#sk-container-id-1 div.sk-container {/* jupyter's `normalize.less` sets `[hidden] { display: none; }` but bootstrap.min.css set `[hidden] { display: none !important; }` so we also need the `!important` here to be able to override the default hidden behavior on the sphinx rendered scikit-learn.org. See: https://github.com/scikit-learn/scikit-learn/issues/21755 */display: inline-block !important;position: relative;}#sk-container-id-1 div.sk-text-repr-fallback {display: none;}</style><div id=\"sk-container-id-1\" class=\"sk-top-container\"><div class=\"sk-text-repr-fallback\"><pre>LogisticRegression(max_iter=500)</pre><b>In a Jupyter environment, please rerun this cell to show the HTML representation or trust the notebook. <br />On GitHub, the HTML representation is unable to render, please try loading this page with nbviewer.org.</b></div><div class=\"sk-container\" hidden><div class=\"sk-item\"><div class=\"sk-estimator sk-toggleable\"><input class=\"sk-toggleable__control sk-hidden--visually\" id=\"sk-estimator-id-1\" type=\"checkbox\" checked><label for=\"sk-estimator-id-1\" class=\"sk-toggleable__label sk-toggleable__label-arrow\">LogisticRegression</label><div class=\"sk-toggleable__content\"><pre>LogisticRegression(max_iter=500)</pre></div></div></div></div></div>"
            ]
          },
          "metadata": {},
          "execution_count": 16
        }
      ],
      "source": [
        "baseline_model.fit(X_train_baseline, y_train_baseline) # fit model"
      ]
    },
    {
      "cell_type": "code",
      "execution_count": 17,
      "metadata": {
        "id": "W4cCL5cMFM-f"
      },
      "outputs": [],
      "source": [
        "y_pred_baseline = baseline_model.predict(X_test_baseline)"
      ]
    },
    {
      "cell_type": "code",
      "execution_count": 18,
      "metadata": {
        "colab": {
          "base_uri": "https://localhost:8080/"
        },
        "id": "1dTrgnfRFSGX",
        "outputId": "617a3aea-0083-4b41-f612-9c80c961c7af"
      },
      "outputs": [
        {
          "output_type": "stream",
          "name": "stdout",
          "text": [
            "RMSE: 0.652\n",
            "              precision    recall  f1-score   support\n",
            "\n",
            "           0       0.62      0.38      0.48      8014\n",
            "           1       0.55      0.77      0.64      7928\n",
            "\n",
            "    accuracy                           0.57     15942\n",
            "   macro avg       0.59      0.58      0.56     15942\n",
            "weighted avg       0.59      0.57      0.56     15942\n",
            "\n"
          ]
        }
      ],
      "source": [
        "baseline_rmse = mean_squared_error(y_test_baseline, y_pred_baseline, squared=False)\n",
        "print(f\"RMSE: {baseline_rmse:.3f}\")\n",
        "print(classification_report(y_test_baseline, y_pred_baseline))"
      ]
    },
    {
      "cell_type": "markdown",
      "metadata": {
        "id": "sLuUzOdBu7sh"
      },
      "source": [
        "# Apply Padding to PX and DX"
      ]
    },
    {
      "cell_type": "code",
      "execution_count": 19,
      "metadata": {
        "colab": {
          "base_uri": "https://localhost:8080/"
        },
        "id": "aVwR49cfu5fV",
        "outputId": "606ebbb5-c683-4dd7-d7f6-4e03a7b095fb"
      },
      "outputs": [
        {
          "output_type": "stream",
          "name": "stdout",
          "text": [
            "(182425, 100)\n",
            "(182425, 100)\n"
          ]
        }
      ],
      "source": [
        "dx_ICD9_code = df_baseline[\"primary_dx_ICD9\"].values\n",
        "px_ICD9_code = df_baseline[\"primary_px_ICD9\"].values\n",
        "\n",
        "dx_ICD9_code = [list(str(item)) for item in dx_ICD9_code]\n",
        "px_ICD9_code = [list(str(item)) for item in px_ICD9_code]\n",
        "\n",
        "\n",
        "target_length = 100\n",
        "padded_dx_code = np.zeros((len(dx_ICD9_code), target_length), dtype=np.int32)\n",
        "for i, seq in enumerate(dx_ICD9_code):\n",
        "  seq_len = len(seq)\n",
        "  if seq_len <= target_length:\n",
        "      padded_dx_code[i, :seq_len] = seq\n",
        "  else:\n",
        "      padded_dx_code[i, :] = seq[:target_length]\n",
        "\n",
        "padded_px_code = np.zeros((len(px_ICD9_code), target_length), dtype=np.int32)\n",
        "for i, seq in enumerate(px_ICD9_code):\n",
        "  seq_len = len(seq)\n",
        "  if seq_len <= target_length:\n",
        "      padded_px_code[i, :seq_len] = seq\n",
        "  else:\n",
        "      padded_px_code[i, :] = seq[:target_length]\n",
        "\n",
        "print(padded_dx_code.shape)\n",
        "print(padded_px_code.shape)\n",
        "\n"
      ]
    },
    {
      "cell_type": "markdown",
      "metadata": {
        "id": "gHsUguPTqzIx"
      },
      "source": [
        "# Encode PX and DX Using Word2Vec"
      ]
    },
    {
      "cell_type": "code",
      "execution_count": 20,
      "metadata": {
        "colab": {
          "base_uri": "https://localhost:8080/"
        },
        "id": "Zk8STjkHq6Hw",
        "outputId": "227c0d63-112e-4c8b-8a30-f66a38d13e7a"
      },
      "outputs": [
        {
          "output_type": "stream",
          "name": "stdout",
          "text": [
            "(182425, 100)\n",
            "(182425, 100)\n"
          ]
        }
      ],
      "source": [
        "def tokenize_seq(padded_seq):\n",
        "  return [seq[seq !=0].tolist() for seq in padded_seq]\n",
        "\n",
        "#Create list of tokenized sequence removing padding of zeroes\n",
        "tokenized_dx_code = tokenize_seq(padded_dx_code)\n",
        "tokenized_px_code = tokenize_seq(padded_px_code)\n",
        "\n",
        "#Train word2vec model on tokenized seq for dx\n",
        "word2vec_model_dx_code = Word2Vec(sentences=tokenized_dx_code, vector_size=100, window=5, min_count=1, workers=4)\n",
        "\n",
        "#Create func to encode a sequence using word2vec embeddings for dx\n",
        "def encode_dx_code(seq):\n",
        "    return np.mean([word2vec_model_dx_code.wv[token] for token in seq], axis=0)\n",
        "\n",
        "#Train word2vec model on tokenized seq for px\n",
        "word2vec_model_px_code = Word2Vec(sentences=tokenized_px_code, vector_size=100, window=5, min_count=1, workers=4)\n",
        "\n",
        "#Create func to encode a sequence using word2vec embeddings for px\n",
        "def encode_px_code(seq):\n",
        "    return np.mean([word2vec_model_px_code.wv[token] for token in seq], axis=0)\n",
        "\n",
        "#Encode sequence in padded dx and px using word2vec embeddings\n",
        "encoded_dx_code = np.array([encode_dx_code(seq) for seq in tokenized_dx_code])\n",
        "encoded_px_code = np.array([encode_px_code(seq) for seq in tokenized_px_code])\n",
        "\n",
        "print(encoded_dx_code.shape)\n",
        "print(encoded_px_code.shape)"
      ]
    },
    {
      "cell_type": "markdown",
      "metadata": {
        "id": "SGnI9npJf0H3"
      },
      "source": [
        "# Clean Text\n",
        "Remove stop words, alpha numeric characters and punctuation."
      ]
    },
    {
      "cell_type": "code",
      "execution_count": 21,
      "metadata": {
        "colab": {
          "base_uri": "https://localhost:8080/"
        },
        "id": "rI_WallWglOr",
        "outputId": "9fc8438b-1510-496e-e48d-3679162e5d10"
      },
      "outputs": [
        {
          "output_type": "stream",
          "name": "stderr",
          "text": [
            "[nltk_data] Downloading package stopwords to /root/nltk_data...\n",
            "[nltk_data]   Unzipping corpora/stopwords.zip.\n"
          ]
        },
        {
          "output_type": "execute_result",
          "data": {
            "text/plain": [
              "True"
            ]
          },
          "metadata": {},
          "execution_count": 21
        }
      ],
      "source": [
        "nltk.download('stopwords')"
      ]
    },
    {
      "cell_type": "code",
      "execution_count": 22,
      "metadata": {
        "id": "0v5Q0KPahEHp"
      },
      "outputs": [],
      "source": [
        "#Create func to remove alpanumeric characters and punctuation\n",
        "def clean_text(text):\n",
        "    #Remove alphanumeric characters\n",
        "    text = re.sub(r'[^a-zA-Z0-9\\s]+', '', text)\n",
        "\n",
        "    #Remove punctuation marks\n",
        "    text = ''.join(ch for ch in text if ch not in string.punctuation)\n",
        "\n",
        "    return text\n",
        "\n",
        "#Create func to remove stop words\n",
        "def remove_stop_words(text):\n",
        "    stop_words = set(stopwords.words('english'))\n",
        "\n",
        "    #Split text into words\n",
        "    words = text.split()\n",
        "    #Remove stop words\n",
        "    words = [word for word in words if word.lower() not in stop_words]\n",
        "\n",
        "    cleaned_text = ' '.join(words)\n",
        "\n",
        "    return cleaned_text"
      ]
    },
    {
      "cell_type": "code",
      "execution_count": 23,
      "metadata": {
        "colab": {
          "base_uri": "https://localhost:8080/",
          "height": 206
        },
        "id": "SWhnmAxxT8nO",
        "outputId": "3c35c662-a45c-4b1a-f016-707f01ba848e"
      },
      "outputs": [
        {
          "output_type": "execute_result",
          "data": {
            "text/plain": [
              "   subject_id  hadm_id admission_type  primary_px_ICD9  primary_dx_ICD9  \\\n",
              "0          13   143045      EMERGENCY             3612            41401   \n",
              "1          13   143045      EMERGENCY             3612            41401   \n",
              "2          13   143045      EMERGENCY             3612            41401   \n",
              "3          13   143045      EMERGENCY             3612            41401   \n",
              "4          13   143045      EMERGENCY             3612            41401   \n",
              "\n",
              "                                           note_text  UHA  \\\n",
              "0  [**2167-1-9**] 4:51 PM\\n CHEST (PORTABLE AP) I...    1   \n",
              "1  CCU ADMISSION NPN 1900-0700: LEFT MAIN\\nHPI: I...    1   \n",
              "2  Sinus rhythm/ Non-diagnostic inferior and late...    1   \n",
              "3  Admission Date:  [**2167-1-8**]       Discharg...    1   \n",
              "4  ALTERED CARDIAC STATUS\\nS: \"I HAVE TO USE THAT...    1   \n",
              "\n",
              "                                   cleaned_note_text  \n",
              "0  216719 451 PM CHEST PORTABLE AP FEMUR AP LAT S...  \n",
              "1  CCU ADMISSION NPN 19000700 LEFT MAIN HPI BREIF...  \n",
              "2  Sinus rhythm Nondiagnostic inferior lateral ST...  \n",
              "3  Admission Date 216718 Discharge Date 2167115 D...  \n",
              "4  ALTERED CARDIAC STATUS USE THING EVERY HOUR CA...  "
            ],
            "text/html": [
              "\n",
              "\n",
              "  <div id=\"df-8c6ed163-ad99-491d-9c80-bf5fc06143ee\">\n",
              "    <div class=\"colab-df-container\">\n",
              "      <div>\n",
              "<style scoped>\n",
              "    .dataframe tbody tr th:only-of-type {\n",
              "        vertical-align: middle;\n",
              "    }\n",
              "\n",
              "    .dataframe tbody tr th {\n",
              "        vertical-align: top;\n",
              "    }\n",
              "\n",
              "    .dataframe thead th {\n",
              "        text-align: right;\n",
              "    }\n",
              "</style>\n",
              "<table border=\"1\" class=\"dataframe\">\n",
              "  <thead>\n",
              "    <tr style=\"text-align: right;\">\n",
              "      <th></th>\n",
              "      <th>subject_id</th>\n",
              "      <th>hadm_id</th>\n",
              "      <th>admission_type</th>\n",
              "      <th>primary_px_ICD9</th>\n",
              "      <th>primary_dx_ICD9</th>\n",
              "      <th>note_text</th>\n",
              "      <th>UHA</th>\n",
              "      <th>cleaned_note_text</th>\n",
              "    </tr>\n",
              "  </thead>\n",
              "  <tbody>\n",
              "    <tr>\n",
              "      <th>0</th>\n",
              "      <td>13</td>\n",
              "      <td>143045</td>\n",
              "      <td>EMERGENCY</td>\n",
              "      <td>3612</td>\n",
              "      <td>41401</td>\n",
              "      <td>[**2167-1-9**] 4:51 PM\\n CHEST (PORTABLE AP) I...</td>\n",
              "      <td>1</td>\n",
              "      <td>216719 451 PM CHEST PORTABLE AP FEMUR AP LAT S...</td>\n",
              "    </tr>\n",
              "    <tr>\n",
              "      <th>1</th>\n",
              "      <td>13</td>\n",
              "      <td>143045</td>\n",
              "      <td>EMERGENCY</td>\n",
              "      <td>3612</td>\n",
              "      <td>41401</td>\n",
              "      <td>CCU ADMISSION NPN 1900-0700: LEFT MAIN\\nHPI: I...</td>\n",
              "      <td>1</td>\n",
              "      <td>CCU ADMISSION NPN 19000700 LEFT MAIN HPI BREIF...</td>\n",
              "    </tr>\n",
              "    <tr>\n",
              "      <th>2</th>\n",
              "      <td>13</td>\n",
              "      <td>143045</td>\n",
              "      <td>EMERGENCY</td>\n",
              "      <td>3612</td>\n",
              "      <td>41401</td>\n",
              "      <td>Sinus rhythm/ Non-diagnostic inferior and late...</td>\n",
              "      <td>1</td>\n",
              "      <td>Sinus rhythm Nondiagnostic inferior lateral ST...</td>\n",
              "    </tr>\n",
              "    <tr>\n",
              "      <th>3</th>\n",
              "      <td>13</td>\n",
              "      <td>143045</td>\n",
              "      <td>EMERGENCY</td>\n",
              "      <td>3612</td>\n",
              "      <td>41401</td>\n",
              "      <td>Admission Date:  [**2167-1-8**]       Discharg...</td>\n",
              "      <td>1</td>\n",
              "      <td>Admission Date 216718 Discharge Date 2167115 D...</td>\n",
              "    </tr>\n",
              "    <tr>\n",
              "      <th>4</th>\n",
              "      <td>13</td>\n",
              "      <td>143045</td>\n",
              "      <td>EMERGENCY</td>\n",
              "      <td>3612</td>\n",
              "      <td>41401</td>\n",
              "      <td>ALTERED CARDIAC STATUS\\nS: \"I HAVE TO USE THAT...</td>\n",
              "      <td>1</td>\n",
              "      <td>ALTERED CARDIAC STATUS USE THING EVERY HOUR CA...</td>\n",
              "    </tr>\n",
              "  </tbody>\n",
              "</table>\n",
              "</div>\n",
              "      <button class=\"colab-df-convert\" onclick=\"convertToInteractive('df-8c6ed163-ad99-491d-9c80-bf5fc06143ee')\"\n",
              "              title=\"Convert this dataframe to an interactive table.\"\n",
              "              style=\"display:none;\">\n",
              "\n",
              "  <svg xmlns=\"http://www.w3.org/2000/svg\" height=\"24px\"viewBox=\"0 0 24 24\"\n",
              "       width=\"24px\">\n",
              "    <path d=\"M0 0h24v24H0V0z\" fill=\"none\"/>\n",
              "    <path d=\"M18.56 5.44l.94 2.06.94-2.06 2.06-.94-2.06-.94-.94-2.06-.94 2.06-2.06.94zm-11 1L8.5 8.5l.94-2.06 2.06-.94-2.06-.94L8.5 2.5l-.94 2.06-2.06.94zm10 10l.94 2.06.94-2.06 2.06-.94-2.06-.94-.94-2.06-.94 2.06-2.06.94z\"/><path d=\"M17.41 7.96l-1.37-1.37c-.4-.4-.92-.59-1.43-.59-.52 0-1.04.2-1.43.59L10.3 9.45l-7.72 7.72c-.78.78-.78 2.05 0 2.83L4 21.41c.39.39.9.59 1.41.59.51 0 1.02-.2 1.41-.59l7.78-7.78 2.81-2.81c.8-.78.8-2.07 0-2.86zM5.41 20L4 18.59l7.72-7.72 1.47 1.35L5.41 20z\"/>\n",
              "  </svg>\n",
              "      </button>\n",
              "\n",
              "\n",
              "\n",
              "    <div id=\"df-32590acf-c298-4ad5-97da-ca05f222aa24\">\n",
              "      <button class=\"colab-df-quickchart\" onclick=\"quickchart('df-32590acf-c298-4ad5-97da-ca05f222aa24')\"\n",
              "              title=\"Suggest charts.\"\n",
              "              style=\"display:none;\">\n",
              "\n",
              "<svg xmlns=\"http://www.w3.org/2000/svg\" height=\"24px\"viewBox=\"0 0 24 24\"\n",
              "     width=\"24px\">\n",
              "    <g>\n",
              "        <path d=\"M19 3H5c-1.1 0-2 .9-2 2v14c0 1.1.9 2 2 2h14c1.1 0 2-.9 2-2V5c0-1.1-.9-2-2-2zM9 17H7v-7h2v7zm4 0h-2V7h2v10zm4 0h-2v-4h2v4z\"/>\n",
              "    </g>\n",
              "</svg>\n",
              "      </button>\n",
              "    </div>\n",
              "\n",
              "<style>\n",
              "  .colab-df-quickchart {\n",
              "    background-color: #E8F0FE;\n",
              "    border: none;\n",
              "    border-radius: 50%;\n",
              "    cursor: pointer;\n",
              "    display: none;\n",
              "    fill: #1967D2;\n",
              "    height: 32px;\n",
              "    padding: 0 0 0 0;\n",
              "    width: 32px;\n",
              "  }\n",
              "\n",
              "  .colab-df-quickchart:hover {\n",
              "    background-color: #E2EBFA;\n",
              "    box-shadow: 0px 1px 2px rgba(60, 64, 67, 0.3), 0px 1px 3px 1px rgba(60, 64, 67, 0.15);\n",
              "    fill: #174EA6;\n",
              "  }\n",
              "\n",
              "  [theme=dark] .colab-df-quickchart {\n",
              "    background-color: #3B4455;\n",
              "    fill: #D2E3FC;\n",
              "  }\n",
              "\n",
              "  [theme=dark] .colab-df-quickchart:hover {\n",
              "    background-color: #434B5C;\n",
              "    box-shadow: 0px 1px 3px 1px rgba(0, 0, 0, 0.15);\n",
              "    filter: drop-shadow(0px 1px 2px rgba(0, 0, 0, 0.3));\n",
              "    fill: #FFFFFF;\n",
              "  }\n",
              "</style>\n",
              "\n",
              "    <script>\n",
              "      async function quickchart(key) {\n",
              "        const containerElement = document.querySelector('#' + key);\n",
              "        const charts = await google.colab.kernel.invokeFunction(\n",
              "            'suggestCharts', [key], {});\n",
              "      }\n",
              "    </script>\n",
              "\n",
              "      <script>\n",
              "\n",
              "function displayQuickchartButton(domScope) {\n",
              "  let quickchartButtonEl =\n",
              "    domScope.querySelector('#df-32590acf-c298-4ad5-97da-ca05f222aa24 button.colab-df-quickchart');\n",
              "  quickchartButtonEl.style.display =\n",
              "    google.colab.kernel.accessAllowed ? 'block' : 'none';\n",
              "}\n",
              "\n",
              "        displayQuickchartButton(document);\n",
              "      </script>\n",
              "      <style>\n",
              "    .colab-df-container {\n",
              "      display:flex;\n",
              "      flex-wrap:wrap;\n",
              "      gap: 12px;\n",
              "    }\n",
              "\n",
              "    .colab-df-convert {\n",
              "      background-color: #E8F0FE;\n",
              "      border: none;\n",
              "      border-radius: 50%;\n",
              "      cursor: pointer;\n",
              "      display: none;\n",
              "      fill: #1967D2;\n",
              "      height: 32px;\n",
              "      padding: 0 0 0 0;\n",
              "      width: 32px;\n",
              "    }\n",
              "\n",
              "    .colab-df-convert:hover {\n",
              "      background-color: #E2EBFA;\n",
              "      box-shadow: 0px 1px 2px rgba(60, 64, 67, 0.3), 0px 1px 3px 1px rgba(60, 64, 67, 0.15);\n",
              "      fill: #174EA6;\n",
              "    }\n",
              "\n",
              "    [theme=dark] .colab-df-convert {\n",
              "      background-color: #3B4455;\n",
              "      fill: #D2E3FC;\n",
              "    }\n",
              "\n",
              "    [theme=dark] .colab-df-convert:hover {\n",
              "      background-color: #434B5C;\n",
              "      box-shadow: 0px 1px 3px 1px rgba(0, 0, 0, 0.15);\n",
              "      filter: drop-shadow(0px 1px 2px rgba(0, 0, 0, 0.3));\n",
              "      fill: #FFFFFF;\n",
              "    }\n",
              "  </style>\n",
              "\n",
              "      <script>\n",
              "        const buttonEl =\n",
              "          document.querySelector('#df-8c6ed163-ad99-491d-9c80-bf5fc06143ee button.colab-df-convert');\n",
              "        buttonEl.style.display =\n",
              "          google.colab.kernel.accessAllowed ? 'block' : 'none';\n",
              "\n",
              "        async function convertToInteractive(key) {\n",
              "          const element = document.querySelector('#df-8c6ed163-ad99-491d-9c80-bf5fc06143ee');\n",
              "          const dataTable =\n",
              "            await google.colab.kernel.invokeFunction('convertToInteractive',\n",
              "                                                     [key], {});\n",
              "          if (!dataTable) return;\n",
              "\n",
              "          const docLinkHtml = 'Like what you see? Visit the ' +\n",
              "            '<a target=\"_blank\" href=https://colab.research.google.com/notebooks/data_table.ipynb>data table notebook</a>'\n",
              "            + ' to learn more about interactive tables.';\n",
              "          element.innerHTML = '';\n",
              "          dataTable['output_type'] = 'display_data';\n",
              "          await google.colab.output.renderOutput(dataTable, element);\n",
              "          const docLink = document.createElement('div');\n",
              "          docLink.innerHTML = docLinkHtml;\n",
              "          element.appendChild(docLink);\n",
              "        }\n",
              "      </script>\n",
              "    </div>\n",
              "  </div>\n"
            ]
          },
          "metadata": {},
          "execution_count": 23
        }
      ],
      "source": [
        "df['cleaned_note_text'] = df['note_text'].apply(lambda x: remove_stop_words(clean_text(x)))\n",
        "df.head()"
      ]
    },
    {
      "cell_type": "markdown",
      "metadata": {
        "id": "7unyTTPZfEBN"
      },
      "source": [
        "# Create Train and Test Sets"
      ]
    },
    {
      "cell_type": "code",
      "execution_count": 24,
      "metadata": {
        "colab": {
          "base_uri": "https://localhost:8080/",
          "height": 206
        },
        "id": "nFwKPM09TUgM",
        "outputId": "bd33cda1-14ec-444b-c7ba-372adb9f8799"
      },
      "outputs": [
        {
          "output_type": "execute_result",
          "data": {
            "text/plain": [
              "                                   cleaned_note_text  UHA\n",
              "0  216719 451 PM CHEST PORTABLE AP FEMUR AP LAT S...    1\n",
              "1  CCU ADMISSION NPN 19000700 LEFT MAIN HPI BREIF...    1\n",
              "2  Sinus rhythm Nondiagnostic inferior lateral ST...    1\n",
              "3  Admission Date 216718 Discharge Date 2167115 D...    1\n",
              "4  ALTERED CARDIAC STATUS USE THING EVERY HOUR CA...    1"
            ],
            "text/html": [
              "\n",
              "\n",
              "  <div id=\"df-3e987c97-c2d1-4ed2-a6a0-28daee52b54d\">\n",
              "    <div class=\"colab-df-container\">\n",
              "      <div>\n",
              "<style scoped>\n",
              "    .dataframe tbody tr th:only-of-type {\n",
              "        vertical-align: middle;\n",
              "    }\n",
              "\n",
              "    .dataframe tbody tr th {\n",
              "        vertical-align: top;\n",
              "    }\n",
              "\n",
              "    .dataframe thead th {\n",
              "        text-align: right;\n",
              "    }\n",
              "</style>\n",
              "<table border=\"1\" class=\"dataframe\">\n",
              "  <thead>\n",
              "    <tr style=\"text-align: right;\">\n",
              "      <th></th>\n",
              "      <th>cleaned_note_text</th>\n",
              "      <th>UHA</th>\n",
              "    </tr>\n",
              "  </thead>\n",
              "  <tbody>\n",
              "    <tr>\n",
              "      <th>0</th>\n",
              "      <td>216719 451 PM CHEST PORTABLE AP FEMUR AP LAT S...</td>\n",
              "      <td>1</td>\n",
              "    </tr>\n",
              "    <tr>\n",
              "      <th>1</th>\n",
              "      <td>CCU ADMISSION NPN 19000700 LEFT MAIN HPI BREIF...</td>\n",
              "      <td>1</td>\n",
              "    </tr>\n",
              "    <tr>\n",
              "      <th>2</th>\n",
              "      <td>Sinus rhythm Nondiagnostic inferior lateral ST...</td>\n",
              "      <td>1</td>\n",
              "    </tr>\n",
              "    <tr>\n",
              "      <th>3</th>\n",
              "      <td>Admission Date 216718 Discharge Date 2167115 D...</td>\n",
              "      <td>1</td>\n",
              "    </tr>\n",
              "    <tr>\n",
              "      <th>4</th>\n",
              "      <td>ALTERED CARDIAC STATUS USE THING EVERY HOUR CA...</td>\n",
              "      <td>1</td>\n",
              "    </tr>\n",
              "  </tbody>\n",
              "</table>\n",
              "</div>\n",
              "      <button class=\"colab-df-convert\" onclick=\"convertToInteractive('df-3e987c97-c2d1-4ed2-a6a0-28daee52b54d')\"\n",
              "              title=\"Convert this dataframe to an interactive table.\"\n",
              "              style=\"display:none;\">\n",
              "\n",
              "  <svg xmlns=\"http://www.w3.org/2000/svg\" height=\"24px\"viewBox=\"0 0 24 24\"\n",
              "       width=\"24px\">\n",
              "    <path d=\"M0 0h24v24H0V0z\" fill=\"none\"/>\n",
              "    <path d=\"M18.56 5.44l.94 2.06.94-2.06 2.06-.94-2.06-.94-.94-2.06-.94 2.06-2.06.94zm-11 1L8.5 8.5l.94-2.06 2.06-.94-2.06-.94L8.5 2.5l-.94 2.06-2.06.94zm10 10l.94 2.06.94-2.06 2.06-.94-2.06-.94-.94-2.06-.94 2.06-2.06.94z\"/><path d=\"M17.41 7.96l-1.37-1.37c-.4-.4-.92-.59-1.43-.59-.52 0-1.04.2-1.43.59L10.3 9.45l-7.72 7.72c-.78.78-.78 2.05 0 2.83L4 21.41c.39.39.9.59 1.41.59.51 0 1.02-.2 1.41-.59l7.78-7.78 2.81-2.81c.8-.78.8-2.07 0-2.86zM5.41 20L4 18.59l7.72-7.72 1.47 1.35L5.41 20z\"/>\n",
              "  </svg>\n",
              "      </button>\n",
              "\n",
              "\n",
              "\n",
              "    <div id=\"df-a699105e-c83b-45aa-80c5-cdf3b31e3abb\">\n",
              "      <button class=\"colab-df-quickchart\" onclick=\"quickchart('df-a699105e-c83b-45aa-80c5-cdf3b31e3abb')\"\n",
              "              title=\"Suggest charts.\"\n",
              "              style=\"display:none;\">\n",
              "\n",
              "<svg xmlns=\"http://www.w3.org/2000/svg\" height=\"24px\"viewBox=\"0 0 24 24\"\n",
              "     width=\"24px\">\n",
              "    <g>\n",
              "        <path d=\"M19 3H5c-1.1 0-2 .9-2 2v14c0 1.1.9 2 2 2h14c1.1 0 2-.9 2-2V5c0-1.1-.9-2-2-2zM9 17H7v-7h2v7zm4 0h-2V7h2v10zm4 0h-2v-4h2v4z\"/>\n",
              "    </g>\n",
              "</svg>\n",
              "      </button>\n",
              "    </div>\n",
              "\n",
              "<style>\n",
              "  .colab-df-quickchart {\n",
              "    background-color: #E8F0FE;\n",
              "    border: none;\n",
              "    border-radius: 50%;\n",
              "    cursor: pointer;\n",
              "    display: none;\n",
              "    fill: #1967D2;\n",
              "    height: 32px;\n",
              "    padding: 0 0 0 0;\n",
              "    width: 32px;\n",
              "  }\n",
              "\n",
              "  .colab-df-quickchart:hover {\n",
              "    background-color: #E2EBFA;\n",
              "    box-shadow: 0px 1px 2px rgba(60, 64, 67, 0.3), 0px 1px 3px 1px rgba(60, 64, 67, 0.15);\n",
              "    fill: #174EA6;\n",
              "  }\n",
              "\n",
              "  [theme=dark] .colab-df-quickchart {\n",
              "    background-color: #3B4455;\n",
              "    fill: #D2E3FC;\n",
              "  }\n",
              "\n",
              "  [theme=dark] .colab-df-quickchart:hover {\n",
              "    background-color: #434B5C;\n",
              "    box-shadow: 0px 1px 3px 1px rgba(0, 0, 0, 0.15);\n",
              "    filter: drop-shadow(0px 1px 2px rgba(0, 0, 0, 0.3));\n",
              "    fill: #FFFFFF;\n",
              "  }\n",
              "</style>\n",
              "\n",
              "    <script>\n",
              "      async function quickchart(key) {\n",
              "        const containerElement = document.querySelector('#' + key);\n",
              "        const charts = await google.colab.kernel.invokeFunction(\n",
              "            'suggestCharts', [key], {});\n",
              "      }\n",
              "    </script>\n",
              "\n",
              "      <script>\n",
              "\n",
              "function displayQuickchartButton(domScope) {\n",
              "  let quickchartButtonEl =\n",
              "    domScope.querySelector('#df-a699105e-c83b-45aa-80c5-cdf3b31e3abb button.colab-df-quickchart');\n",
              "  quickchartButtonEl.style.display =\n",
              "    google.colab.kernel.accessAllowed ? 'block' : 'none';\n",
              "}\n",
              "\n",
              "        displayQuickchartButton(document);\n",
              "      </script>\n",
              "      <style>\n",
              "    .colab-df-container {\n",
              "      display:flex;\n",
              "      flex-wrap:wrap;\n",
              "      gap: 12px;\n",
              "    }\n",
              "\n",
              "    .colab-df-convert {\n",
              "      background-color: #E8F0FE;\n",
              "      border: none;\n",
              "      border-radius: 50%;\n",
              "      cursor: pointer;\n",
              "      display: none;\n",
              "      fill: #1967D2;\n",
              "      height: 32px;\n",
              "      padding: 0 0 0 0;\n",
              "      width: 32px;\n",
              "    }\n",
              "\n",
              "    .colab-df-convert:hover {\n",
              "      background-color: #E2EBFA;\n",
              "      box-shadow: 0px 1px 2px rgba(60, 64, 67, 0.3), 0px 1px 3px 1px rgba(60, 64, 67, 0.15);\n",
              "      fill: #174EA6;\n",
              "    }\n",
              "\n",
              "    [theme=dark] .colab-df-convert {\n",
              "      background-color: #3B4455;\n",
              "      fill: #D2E3FC;\n",
              "    }\n",
              "\n",
              "    [theme=dark] .colab-df-convert:hover {\n",
              "      background-color: #434B5C;\n",
              "      box-shadow: 0px 1px 3px 1px rgba(0, 0, 0, 0.15);\n",
              "      filter: drop-shadow(0px 1px 2px rgba(0, 0, 0, 0.3));\n",
              "      fill: #FFFFFF;\n",
              "    }\n",
              "  </style>\n",
              "\n",
              "      <script>\n",
              "        const buttonEl =\n",
              "          document.querySelector('#df-3e987c97-c2d1-4ed2-a6a0-28daee52b54d button.colab-df-convert');\n",
              "        buttonEl.style.display =\n",
              "          google.colab.kernel.accessAllowed ? 'block' : 'none';\n",
              "\n",
              "        async function convertToInteractive(key) {\n",
              "          const element = document.querySelector('#df-3e987c97-c2d1-4ed2-a6a0-28daee52b54d');\n",
              "          const dataTable =\n",
              "            await google.colab.kernel.invokeFunction('convertToInteractive',\n",
              "                                                     [key], {});\n",
              "          if (!dataTable) return;\n",
              "\n",
              "          const docLinkHtml = 'Like what you see? Visit the ' +\n",
              "            '<a target=\"_blank\" href=https://colab.research.google.com/notebooks/data_table.ipynb>data table notebook</a>'\n",
              "            + ' to learn more about interactive tables.';\n",
              "          element.innerHTML = '';\n",
              "          dataTable['output_type'] = 'display_data';\n",
              "          await google.colab.output.renderOutput(dataTable, element);\n",
              "          const docLink = document.createElement('div');\n",
              "          docLink.innerHTML = docLinkHtml;\n",
              "          element.appendChild(docLink);\n",
              "        }\n",
              "      </script>\n",
              "    </div>\n",
              "  </div>\n"
            ]
          },
          "metadata": {},
          "execution_count": 24
        }
      ],
      "source": [
        "df_nlp = df[['cleaned_note_text', 'UHA']]\n",
        "df_nlp.head()"
      ]
    },
    {
      "cell_type": "code",
      "execution_count": 25,
      "metadata": {
        "id": "zb4k_tOnWpym"
      },
      "outputs": [],
      "source": [
        "texts = df_nlp['cleaned_note_text'].values\n",
        "labels = df_nlp['UHA'].values"
      ]
    },
    {
      "cell_type": "code",
      "source": [
        "# Split training and testing sets for three features and label\n",
        "X_train_nlp, X_test_nlp, X_train_encoded_px, X_test_encoded_px, X_train_encoded_dx, X_test_encoded_dx, y_train_nlp, y_test_nlp = train_test_split(\n",
        "    texts, encoded_px_code, encoded_dx_code, labels, test_size=0.2, random_state=42\n",
        ")"
      ],
      "metadata": {
        "id": "YTmH6KbwVTGh"
      },
      "execution_count": 26,
      "outputs": []
    },
    {
      "cell_type": "markdown",
      "metadata": {
        "id": "-BAcz8ScJmr6"
      },
      "source": [
        "# Tokenize CNN Data"
      ]
    },
    {
      "cell_type": "code",
      "execution_count": 27,
      "metadata": {
        "colab": {
          "base_uri": "https://localhost:8080/"
        },
        "id": "l84ehptkQnop",
        "outputId": "76bff614-89ab-477c-8f28-104eecaea79a"
      },
      "outputs": [
        {
          "output_type": "stream",
          "name": "stderr",
          "text": [
            "[nltk_data] Downloading package word2vec_sample to /root/nltk_data...\n",
            "[nltk_data]   Unzipping models/word2vec_sample.zip.\n"
          ]
        }
      ],
      "source": [
        "nltk.download('word2vec_sample')\n",
        "word2vec_sample = str(find('models/word2vec_sample/pruned.word2vec.txt'))\n",
        "model = KeyedVectors.load_word2vec_format(datapath(word2vec_sample), binary=False)"
      ]
    },
    {
      "cell_type": "code",
      "execution_count": 28,
      "metadata": {
        "id": "uGePVh7kQ3x_"
      },
      "outputs": [],
      "source": [
        "EMBEDDING_DIM = len(model['university'])      # we know... it's 300\n",
        "\n",
        "# initialize embedding matrix and word-to-id map:\n",
        "embedding_matrix = np.zeros((len(model) + 1, EMBEDDING_DIM))\n",
        "vocab_dict = {}\n",
        "\n",
        "# build the embedding matrix and the word-to-id map:\n",
        "for i, word in enumerate(model.index_to_key):\n",
        "    embedding_vector = model[word]\n",
        "\n",
        "    if embedding_vector is not None:\n",
        "        # words not found in embedding index will be all-zeros.\n",
        "        embedding_matrix[i] = embedding_vector\n",
        "        vocab_dict[word] = i\n",
        "\n",
        "# we can use the last index at the end of the vocab for unknown tokens\n",
        "vocab_dict['[UNK]'] = len(vocab_dict)"
      ]
    },
    {
      "cell_type": "code",
      "execution_count": 29,
      "metadata": {
        "id": "M9cGdhCMSkQG"
      },
      "outputs": [],
      "source": [
        "tokenizer = tf_text.WhitespaceTokenizer()\n",
        "train_tokens = tokenizer.tokenize(X_train_nlp)\n",
        "test_tokens = tokenizer.tokenize(X_test_nlp)"
      ]
    },
    {
      "cell_type": "code",
      "execution_count": 30,
      "metadata": {
        "id": "l4GnBegsRcoj"
      },
      "outputs": [],
      "source": [
        "def docs_to_vocab_ids(tokenized_texts_list):\n",
        "    \"\"\"\n",
        "    converting a list of strings to a list of lists of word ids\n",
        "    \"\"\"\n",
        "    texts_vocab_ids = []\n",
        "    for i, token_list in enumerate(tokenized_texts_list):\n",
        "\n",
        "        # Get the vocab id for each token in this doc ([UNK] if not in vocab)\n",
        "        vocab_ids = []\n",
        "        for token in list(token_list.numpy()):\n",
        "            decoded = token.decode('utf-8', errors='ignore')\n",
        "            if decoded in vocab_dict:\n",
        "                vocab_ids.append(vocab_dict[decoded])\n",
        "            else:\n",
        "                vocab_ids.append(vocab_dict['[UNK]'])\n",
        "\n",
        "        # Truncate text to max length, add padding up to max length\n",
        "        vocab_ids = vocab_ids[:MAX_SEQUENCE_LENGTH]\n",
        "        n_padding = (MAX_SEQUENCE_LENGTH - len(vocab_ids))\n",
        "        # For simplicity in this model, we'll just pad with uknown tokens\n",
        "        vocab_ids += [vocab_dict['[UNK]']] * n_padding\n",
        "\n",
        "        # Add this example to the list of converted docs\n",
        "        texts_vocab_ids.append(vocab_ids)\n",
        "\n",
        "        if i % 5000 == 0:\n",
        "            print('Examples processed: ', i)\n",
        "\n",
        "    print('Total examples: ', i)\n",
        "\n",
        "    return np.array(texts_vocab_ids)"
      ]
    },
    {
      "cell_type": "code",
      "execution_count": 31,
      "metadata": {
        "colab": {
          "base_uri": "https://localhost:8080/"
        },
        "id": "CwvYOSSFRd8X",
        "outputId": "beee344d-a31e-4fef-f308-6c4d060fe09d"
      },
      "outputs": [
        {
          "output_type": "stream",
          "name": "stdout",
          "text": [
            "Examples processed:  0\n",
            "Examples processed:  5000\n",
            "Examples processed:  10000\n",
            "Examples processed:  15000\n",
            "Examples processed:  20000\n",
            "Examples processed:  25000\n",
            "Examples processed:  30000\n",
            "Examples processed:  35000\n",
            "Examples processed:  40000\n",
            "Examples processed:  45000\n",
            "Examples processed:  50000\n",
            "Examples processed:  55000\n",
            "Examples processed:  60000\n",
            "Examples processed:  65000\n",
            "Examples processed:  70000\n",
            "Examples processed:  75000\n",
            "Examples processed:  80000\n",
            "Examples processed:  85000\n",
            "Examples processed:  90000\n",
            "Examples processed:  95000\n",
            "Examples processed:  100000\n",
            "Examples processed:  105000\n",
            "Examples processed:  110000\n",
            "Examples processed:  115000\n",
            "Examples processed:  120000\n",
            "Examples processed:  125000\n",
            "Examples processed:  130000\n",
            "Examples processed:  135000\n",
            "Examples processed:  140000\n",
            "Examples processed:  145000\n",
            "Total examples:  145939\n",
            "Examples processed:  0\n",
            "Examples processed:  5000\n",
            "Examples processed:  10000\n",
            "Examples processed:  15000\n",
            "Examples processed:  20000\n",
            "Examples processed:  25000\n",
            "Examples processed:  30000\n",
            "Examples processed:  35000\n",
            "Total examples:  36484\n"
          ]
        }
      ],
      "source": [
        "train_input = docs_to_vocab_ids(train_tokens)\n",
        "test_input = docs_to_vocab_ids(test_tokens)\n",
        "\n",
        "train_labels = np.array(y_train_nlp)\n",
        "test_labels = np.array(y_test_nlp)"
      ]
    },
    {
      "cell_type": "markdown",
      "metadata": {
        "id": "QemANIsfgaHe"
      },
      "source": [
        "## Create CNN Model (Text Only)"
      ]
    },
    {
      "cell_type": "code",
      "source": [
        "from tensorflow.keras import backend as K\n",
        "\n",
        "def custom_f1_score(y_true, y_pred):\n",
        "    # Define the true positives, false positives and false negatives\n",
        "    tp = K.sum(K.round(K.clip(y_true * y_pred, 0, 1)))\n",
        "    fp = K.sum(K.round(K.clip(y_pred - y_true, 0, 1)))\n",
        "    fn = K.sum(K.round(K.clip(y_true - y_pred, 0, 1)))\n",
        "\n",
        "    # Calculate the precision and recall\n",
        "    p = tp / (tp + fp + K.epsilon())\n",
        "    r = tp / (tp + fn + K.epsilon())\n",
        "\n",
        "    # Calculate the F1 score\n",
        "    f1_score = 2 * ((p * r) / (p + r + K.epsilon()))\n",
        "\n",
        "    return f1_score"
      ],
      "metadata": {
        "id": "NymKaXFqSGhi"
      },
      "execution_count": 32,
      "outputs": []
    },
    {
      "cell_type": "code",
      "execution_count": 33,
      "metadata": {
        "id": "-HpGiq22JrFL"
      },
      "outputs": [],
      "source": [
        "def create_cnn_model(MAX_SEQUENCE_LENGTH=100,\n",
        "                     hidden_size = 200,\n",
        "                     dropout=0.3,\n",
        "                     kernel_size=5,\n",
        "                     filters=32,\n",
        "                     learning_rate=0.00005):\n",
        "\n",
        "    cnn_input_layer = tf.keras.layers.Input(shape=(MAX_SEQUENCE_LENGTH,), dtype='int64')\n",
        "    cnn_embedding_layer = Embedding(embedding_matrix.shape[0],\n",
        "                                    embedding_matrix.shape[1],\n",
        "                                    embeddings_initializer=tf.keras.initializers.Constant(embedding_matrix),\n",
        "                                    input_length=MAX_SEQUENCE_LENGTH,\n",
        "                                    trainable=True)\n",
        "    cnn_embeddings = cnn_embedding_layer(cnn_input_layer)\n",
        "\n",
        "    conv_layer = tf.keras.layers.Conv1D(filters=filters, kernel_size=kernel_size, activation='relu')(cnn_embeddings)\n",
        "    conv_layer = tf.keras.layers.GlobalMaxPooling1D()(conv_layer)\n",
        "\n",
        "    hidden = tf.keras.layers.Dense(hidden_size, activation='relu', name='hidden_layer')(conv_layer)\n",
        "\n",
        "\n",
        "    hidden = tf.keras.layers.Dropout(dropout)(hidden)\n",
        "\n",
        "\n",
        "    cnn_prediction = tf.keras.layers.Dense(1, activation='sigmoid')(hidden)\n",
        "\n",
        "    cnn_model = tf.keras.Model(inputs=cnn_input_layer, outputs=cnn_prediction)\n",
        "    cnn_model.compile(optimizer='adam',\n",
        "                      loss='binary_crossentropy',\n",
        "                      metrics=['accuracy', custom_f1_score])\n",
        "\n",
        "    return cnn_model"
      ]
    },
    {
      "cell_type": "code",
      "execution_count": 34,
      "metadata": {
        "id": "nZcs_zpOalmV"
      },
      "outputs": [],
      "source": [
        "cnn_model = create_cnn_model()"
      ]
    },
    {
      "cell_type": "code",
      "execution_count": 35,
      "metadata": {
        "colab": {
          "base_uri": "https://localhost:8080/"
        },
        "id": "7eVD-uovbDQf",
        "outputId": "bbf77eb1-8c54-44a5-be60-825ee0cbbba2"
      },
      "outputs": [
        {
          "output_type": "stream",
          "name": "stdout",
          "text": [
            "29188/29188 [==============================] - 164s 5ms/step - loss: 0.4041 - accuracy: 0.8193 - custom_f1_score: 0.8791 - val_loss: 0.3761 - val_accuracy: 0.8298 - val_custom_f1_score: 0.8822\n"
          ]
        }
      ],
      "source": [
        "cnn_history = cnn_model.fit(train_input,\n",
        "                            y_train_nlp,\n",
        "                            validation_data=(test_input, y_test_nlp),\n",
        "                            batch_size=5,\n",
        "                            epochs=1\n",
        "                            )"
      ]
    },
    {
      "cell_type": "markdown",
      "source": [
        "# Create CNN + Attention Model (Text Only)"
      ],
      "metadata": {
        "id": "i0qSlx6DGvu6"
      }
    },
    {
      "cell_type": "code",
      "source": [
        "def create_cnn_attention_model(MAX_SEQUENCE_LENGTH=100,\n",
        "                     hidden_size = 200,\n",
        "                     dropout=0.3,\n",
        "                     kernel_size=5,\n",
        "                     filters=32,\n",
        "                     learning_rate=0.00005):\n",
        "\n",
        "    cnn_input_layer = tf.keras.layers.Input(shape=(MAX_SEQUENCE_LENGTH,), dtype='int64')\n",
        "    cnn_embedding_layer = Embedding(embedding_matrix.shape[0],\n",
        "                                    embedding_matrix.shape[1],\n",
        "                                    embeddings_initializer=tf.keras.initializers.Constant(embedding_matrix),\n",
        "                                    input_length=MAX_SEQUENCE_LENGTH,\n",
        "                                    trainable=True)\n",
        "    cnn_embeddings = cnn_embedding_layer(cnn_input_layer)\n",
        "\n",
        "    conv_layer = tf.keras.layers.Conv1D(filters=filters, kernel_size=kernel_size, activation='relu')(cnn_embeddings)\n",
        "    conv_layer = tf.keras.layers.GlobalMaxPooling1D()(conv_layer)\n",
        "\n",
        "    one_vector = tf.Variable(tf.ones((1, 1, 1)))\n",
        "    batch_of_ones = tf.tile(one_vector, (tf.shape(cnn_input_layer)[0], 1, 1))\n",
        "    query_layer = tf.keras.layers.Dense(conv_layer.shape[1])\n",
        "    query_vector = query_layer(batch_of_ones)\n",
        "\n",
        "    attention_output = tf.keras.layers.Attention()([query_vector, conv_layer], return_attention_scores=True)\n",
        "\n",
        "    attention_scores = attention_output[1]\n",
        "    context_vectors = tf.keras.layers.Reshape((attention_output[0].shape[-1],))(attention_output[0])\n",
        "\n",
        "    hidden = tf.keras.layers.Dense(hidden_size, activation='relu', name='hidden_layer')(context_vectors)\n",
        "\n",
        "\n",
        "    hidden = tf.keras.layers.Dropout(dropout)(hidden)\n",
        "\n",
        "\n",
        "    cnn_attention_prediction = tf.keras.layers.Dense(1, activation='sigmoid')(hidden)\n",
        "\n",
        "    cnn_attention_model = tf.keras.Model(inputs=cnn_input_layer, outputs=[cnn_attention_prediction, attention_scores])\n",
        "    cnn_attention_model.compile(optimizer='adam',\n",
        "                      loss=['binary_crossentropy', None],\n",
        "                      metrics=['accuracy', custom_f1_score, None])\n",
        "\n",
        "    return cnn_attention_model"
      ],
      "metadata": {
        "id": "wIIDJvcyG0QL"
      },
      "execution_count": 54,
      "outputs": []
    },
    {
      "cell_type": "code",
      "source": [
        "cnn_attention_model = create_cnn_attention_model()\n",
        "\n",
        "cnn_attention_history = cnn_attention_model.fit(train_input,\n",
        "                            y_train_nlp,\n",
        "                            validation_data=(test_input, y_test_nlp),\n",
        "                            batch_size=5,\n",
        "                            epochs=1\n",
        "                            )"
      ],
      "metadata": {
        "colab": {
          "base_uri": "https://localhost:8080/"
        },
        "id": "CNc5-VvtG1f7",
        "outputId": "0e1ef38f-59ec-4e89-d330-5c5ed6b222dc"
      },
      "execution_count": 55,
      "outputs": [
        {
          "output_type": "stream",
          "name": "stderr",
          "text": [
            "WARNING:tensorflow:The following Variables were used in a Lambda layer's call (tf.tile), but are not present in its tracked objects:   <tf.Variable 'Variable:0' shape=(1, 1, 1) dtype=float32>. This is a strong indication that the Lambda layer should be rewritten as a subclassed Layer.\n"
          ]
        },
        {
          "output_type": "stream",
          "name": "stdout",
          "text": [
            "29188/29188 [==============================] - 166s 6ms/step - loss: 0.5151 - dense_4_loss: 0.5151 - dense_4_accuracy: 0.7818 - dense_4_custom_f1_score: 0.8641 - attention_accuracy: 0.2022 - attention_custom_f1_score: 0.0193 - val_loss: 0.5128 - val_dense_4_loss: 0.5128 - val_dense_4_accuracy: 0.7805 - val_dense_4_custom_f1_score: 0.8629 - val_attention_accuracy: 0.2053 - val_attention_custom_f1_score: 0.0061\n"
          ]
        }
      ]
    },
    {
      "cell_type": "markdown",
      "source": [
        "## Create CNN Model (Text + PX + DX)"
      ],
      "metadata": {
        "id": "7zLIQ6n3VoDc"
      }
    },
    {
      "cell_type": "code",
      "execution_count": null,
      "metadata": {
        "id": "qkoh1MBaRP-7"
      },
      "outputs": [],
      "source": [
        "def create_cnn_model_2(MAX_SEQUENCE_LENGTH=100,\n",
        "                     hidden_size = 200,\n",
        "                     dropout=0.3,\n",
        "                     kernel_size=3,\n",
        "                     filters=32,\n",
        "                     learning_rate=0.00005):\n",
        "\n",
        "    cnn_input_layer = tf.keras.layers.Input(shape=(MAX_SEQUENCE_LENGTH,), dtype='int64')\n",
        "\n",
        "    cnn_embedding_layer = Embedding(embedding_matrix.shape[0],\n",
        "                                    embedding_matrix.shape[1],\n",
        "                                    embeddings_initializer=tf.keras.initializers.Constant(embedding_matrix),\n",
        "                                    input_length=MAX_SEQUENCE_LENGTH,\n",
        "                                    trainable=True)\n",
        "    cnn_embeddings = cnn_embedding_layer(cnn_input_layer)\n",
        "\n",
        "    conv_layer = tf.keras.layers.Conv1D(filters=filters, kernel_size=kernel_size, strides=3, padding='valid')(cnn_embeddings)\n",
        "    conv_layer = tf.keras.layers.GlobalMaxPooling1D()(conv_layer)\n",
        "\n",
        "    input_px = tf.keras.layers.Input(shape=(MAX_SEQUENCE_LENGTH,), name='input_px')\n",
        "    input_dx = tf.keras.layers.Input(shape=(MAX_SEQUENCE_LENGTH,), name='input_dx')\n",
        "\n",
        "    #Concatenate embedding with dx and px\n",
        "    concatenated = tf.keras.layers.concatenate([conv_layer, input_px, input_dx], axis=-1)\n",
        "\n",
        "    hidden = tf.keras.layers.Dense(hidden_size, activation='relu', name='hidden_layer')(conv_layer)\n",
        "\n",
        "\n",
        "    hidden = tf.keras.layers.Dropout(dropout)(hidden)\n",
        "\n",
        "\n",
        "    cnn_prediction = tf.keras.layers.Dense(1, activation='sigmoid')(hidden)\n",
        "\n",
        "    cnn_model_2 = tf.keras.Model(inputs=[cnn_input_layer, input_px, input_dx], outputs=cnn_prediction)\n",
        "    cnn_model_2.compile(optimizer='adam',\n",
        "                      loss='binary_crossentropy',\n",
        "                      metrics=['accuracy'])\n",
        "\n",
        "    return cnn_model_2"
      ]
    },
    {
      "cell_type": "code",
      "execution_count": null,
      "metadata": {
        "id": "hdf_wov4RP-8"
      },
      "outputs": [],
      "source": [
        "cnn_model_2 = create_cnn_model_2()"
      ]
    },
    {
      "cell_type": "code",
      "execution_count": null,
      "metadata": {
        "colab": {
          "base_uri": "https://localhost:8080/"
        },
        "outputId": "2d8c403d-b28a-4733-9b08-8ae6bb1e12a3",
        "id": "1fbnQtEVRP-8"
      },
      "outputs": [
        {
          "output_type": "stream",
          "name": "stdout",
          "text": [
            "24852/24852 [==============================] - 275s 11ms/step - loss: 0.3768 - accuracy: 0.8398 - val_loss: 0.3605 - val_accuracy: 0.8464\n"
          ]
        }
      ],
      "source": [
        "cnn_model_2_history = cnn_model_2.fit([train_input, X_train_encoded_px, X_train_encoded_dx],\n",
        "                            train_labels,\n",
        "                            validation_data=([test_input, X_test_encoded_px, X_test_encoded_dx], test_labels),\n",
        "                            batch_size=5,\n",
        "                            epochs=1\n",
        ")"
      ]
    },
    {
      "cell_type": "code",
      "execution_count": null,
      "metadata": {
        "colab": {
          "base_uri": "https://localhost:8080/",
          "height": 576
        },
        "id": "bV2Dn7yCi8bF",
        "outputId": "72b00472-f1e9-4a42-aa7b-eafbd529a474"
      },
      "outputs": [
        {
          "output_type": "display_data",
          "data": {
            "text/plain": [
              "<Figure size 1000x700 with 1 Axes>"
            ],
            "image/png": "[encoded data removed]"
          },
          "metadata": {}
        }
      ],
      "source": [
        "model = create_cnn_model_2()\n",
        "\n",
        "# Plot the model architecture and save it as a file\n",
        "plot_model(model, to_file='cnn_model.png', show_shapes=True, show_layer_names=True)\n",
        "\n",
        "# Display the model architecture\n",
        "plt.figure(figsize=(10, 7))\n",
        "img = plt.imread('cnn_model.png')\n",
        "plt.imshow(img)\n",
        "plt.axis('off')\n",
        "plt.show()"
      ]
    },
    {
      "cell_type": "code",
      "execution_count": null,
      "metadata": {
        "colab": {
          "base_uri": "https://localhost:8080/"
        },
        "id": "bkhobnQnkaSO",
        "outputId": "2d60c610-7787-4d61-e7b7-66ee49329100"
      },
      "outputs": [
        {
          "name": "stdout",
          "output_type": "stream",
          "text": [
            "Epoch 1/5\n",
            "1942/1942 [==============================] - 988s 506ms/step - loss: 0.3662 - accuracy: 0.8435 - val_loss: 0.3398 - val_accuracy: 0.8572\n",
            "Epoch 2/5\n",
            "1942/1942 [==============================] - 969s 499ms/step - loss: 0.3119 - accuracy: 0.8662 - val_loss: 0.3469 - val_accuracy: 0.8520\n",
            "Epoch 3/5\n",
            "1942/1942 [==============================] - 912s 470ms/step - loss: 0.2613 - accuracy: 0.8878 - val_loss: 0.3577 - val_accuracy: 0.8590\n",
            "Epoch 4/5\n",
            "1942/1942 [==============================] - 907s 467ms/step - loss: 0.2083 - accuracy: 0.9116 - val_loss: 0.4420 - val_accuracy: 0.8554\n",
            "Epoch 5/5\n",
            "1942/1942 [==============================] - 927s 478ms/step - loss: 0.1711 - accuracy: 0.9281 - val_loss: 0.5142 - val_accuracy: 0.8407\n"
          ]
        }
      ],
      "source": [
        "cnn_model_2_history_2 = cnn_model_2.fit([train_input, X_train_encoded_px, X_train_encoded_dx],\n",
        "                            train_labels,\n",
        "                            validation_data=([test_input, X_test_encoded_px, X_test_encoded_dx], test_labels),\n",
        "                            batch_size=64,\n",
        "                            epochs=5,\n",
        "                            callbacks=[model_checkpoint_callback]\n",
        ")"
      ]
    },
    {
      "cell_type": "code",
      "execution_count": null,
      "metadata": {
        "colab": {
          "base_uri": "https://localhost:8080/",
          "height": 258
        },
        "id": "QAKqLblhXshk",
        "outputId": "f8fb0fd0-3a56-4a4b-b1f7-3ea4042f8c01"
      },
      "outputs": [
        {
          "data": {
            "image/png": "[encoded data removed]",
            "text/plain": [
              "<Figure size 1200x400 with 2 Axes>"
            ]
          },
          "metadata": {},
          "output_type": "display_data"
        }
      ],
      "source": [
        "# Plot training and validation loss\n",
        "plt.figure(figsize=(12, 4))\n",
        "\n",
        "# Plot training loss\n",
        "plt.subplot(1, 2, 1)\n",
        "plt.plot(cnn_model_2_history_2.history['loss'], label='Training Loss', color='navy')\n",
        "plt.plot(cnn_model_2_history_2.history['val_loss'], label='Validation Loss', color='orange')\n",
        "plt.xlabel('Epoch')\n",
        "plt.ylabel('Loss')\n",
        "plt.title('Training and Validation Loss')\n",
        "plt.legend()\n",
        "\n",
        "# Plot training and validation accuracy\n",
        "plt.subplot(1, 2, 2)\n",
        "plt.plot(cnn_model_2_history_2.history['accuracy'], label='Training Accuracy', color='navy')\n",
        "plt.plot(cnn_model_2_history_2.history['val_accuracy'], label='Validation Accuracy', color='orange')\n",
        "plt.xlabel('Epoch')\n",
        "plt.ylabel('Accuracy')\n",
        "plt.title('Training and Validation Accuracy')\n",
        "plt.legend()\n",
        "\n",
        "plt.tight_layout()\n",
        "plt.show()"
      ]
    },
    {
      "cell_type": "code",
      "execution_count": null,
      "metadata": {
        "colab": {
          "base_uri": "https://localhost:8080/"
        },
        "id": "7Y5Cy8rYE1__",
        "outputId": "9bc4f811-c326-48cf-e478-478f991e8d39"
      },
      "outputs": [
        {
          "output_type": "stream",
          "name": "stdout",
          "text": [
            "Epoch 1/5\n",
            "3884/3884 [==============================] - 133s 31ms/step - loss: 0.3670 - accuracy: 0.8428 - val_loss: 0.3418 - val_accuracy: 0.8556\n",
            "Epoch 2/5\n",
            "3884/3884 [==============================] - 45s 11ms/step - loss: 0.3163 - accuracy: 0.8648 - val_loss: 0.3370 - val_accuracy: 0.8605\n",
            "Epoch 3/5\n",
            "3884/3884 [==============================] - 48s 12ms/step - loss: 0.2686 - accuracy: 0.8851 - val_loss: 0.3475 - val_accuracy: 0.8595\n",
            "Epoch 4/5\n",
            "3884/3884 [==============================] - 42s 11ms/step - loss: 0.2197 - accuracy: 0.9071 - val_loss: 0.4207 - val_accuracy: 0.8564\n",
            "Epoch 5/5\n",
            "3884/3884 [==============================] - 46s 12ms/step - loss: 0.1835 - accuracy: 0.9227 - val_loss: 0.4866 - val_accuracy: 0.8543\n"
          ]
        }
      ],
      "source": [
        "cnn_model_2_history_3 = cnn_model_2.fit([train_input, X_train_encoded_px, X_train_encoded_dx],\n",
        "                            train_labels,\n",
        "                            validation_data=([test_input, X_test_encoded_px, X_test_encoded_dx], test_labels),\n",
        "                            batch_size=32,\n",
        "                            epochs=5,\n",
        "                            callbacks=[model_checkpoint_callback]\n",
        ")"
      ]
    },
    {
      "cell_type": "code",
      "source": [
        "# Plot training and validation loss\n",
        "plt.figure(figsize=(12, 4))\n",
        "\n",
        "# Plot training loss\n",
        "plt.subplot(1, 2, 1)\n",
        "plt.plot(cnn_model_2_history_3.history['loss'], label='Training Loss', color='navy')\n",
        "plt.plot(cnn_model_2_history_3.history['val_loss'], label='Validation Loss', color='orange')\n",
        "plt.xlabel('Epoch')\n",
        "plt.ylabel('Loss')\n",
        "plt.title('Training and Validation Loss')\n",
        "plt.legend()\n",
        "\n",
        "# Plot training and validation accuracy\n",
        "plt.subplot(1, 2, 2)\n",
        "plt.plot(cnn_model_2_history_3.history['accuracy'], label='Training Accuracy', color='navy')\n",
        "plt.plot(cnn_model_2_history_3.history['val_accuracy'], label='Validation Accuracy', color='orange')\n",
        "plt.xlabel('Epoch')\n",
        "plt.ylabel('Accuracy')\n",
        "plt.title('Training and Validation Accuracy')\n",
        "plt.legend()\n",
        "\n",
        "plt.tight_layout()\n",
        "plt.show()"
      ],
      "metadata": {
        "colab": {
          "base_uri": "https://localhost:8080/",
          "height": 407
        },
        "id": "aMp3jF59gqaM",
        "outputId": "7eb87421-207c-4df6-a229-5f20f56c56de"
      },
      "execution_count": null,
      "outputs": [
        {
          "output_type": "display_data",
          "data": {
            "text/plain": [
              "<Figure size 1200x400 with 2 Axes>"
            ],
            "image/png": "[encoded data removed]"
          },
          "metadata": {}
        }
      ]
    },
    {
      "cell_type": "code",
      "source": [
        "def create_cnn_model_3(MAX_SEQUENCE_LENGTH=100,\n",
        "                     hidden_size = 200,\n",
        "                     dropout=0.3,\n",
        "                     kernel_size=3,\n",
        "                     filters=16,\n",
        "                     learning_rate=0.00005):\n",
        "\n",
        "    cnn_input_layer = tf.keras.layers.Input(shape=(MAX_SEQUENCE_LENGTH,), dtype='int64')\n",
        "\n",
        "    cnn_embedding_layer = Embedding(embedding_matrix.shape[0],\n",
        "                                    embedding_matrix.shape[1],\n",
        "                                    embeddings_initializer=tf.keras.initializers.Constant(embedding_matrix),\n",
        "                                    input_length=MAX_SEQUENCE_LENGTH,\n",
        "                                    trainable=True)\n",
        "    cnn_embeddings = cnn_embedding_layer(cnn_input_layer)\n",
        "\n",
        "    conv_layer = tf.keras.layers.Conv1D(filters=16, kernel_size=kernel_size, strides=3, padding='valid')(cnn_embeddings)\n",
        "    conv_layer = tf.keras.layers.GlobalMaxPooling1D()(conv_layer)\n",
        "\n",
        "    input_px = tf.keras.layers.Input(shape=(MAX_SEQUENCE_LENGTH,), name='input_px')\n",
        "    input_dx = tf.keras.layers.Input(shape=(MAX_SEQUENCE_LENGTH,), name='input_dx')\n",
        "\n",
        "    #Concatenate embedding with dx and px\n",
        "    concatenated = tf.keras.layers.concatenate([conv_layer, input_px, input_dx], axis=-1)\n",
        "\n",
        "    hidden = tf.keras.layers.Dense(hidden_size, activation='relu', name='hidden_layer')(conv_layer)\n",
        "\n",
        "\n",
        "    hidden = tf.keras.layers.Dropout(dropout)(hidden)\n",
        "\n",
        "\n",
        "    cnn_prediction = tf.keras.layers.Dense(1, activation='sigmoid')(hidden)\n",
        "\n",
        "    cnn_model_3 = tf.keras.Model(inputs=[cnn_input_layer, input_px, input_dx], outputs=cnn_prediction)\n",
        "    cnn_model_3.compile(optimizer='adam',\n",
        "                      loss='binary_crossentropy',\n",
        "                      metrics=['accuracy'])\n",
        "\n",
        "    return cnn_model_3"
      ],
      "metadata": {
        "id": "YAvFyZ43vNlk"
      },
      "execution_count": null,
      "outputs": []
    },
    {
      "cell_type": "code",
      "source": [
        "cnn_model_3 = create_cnn_model_3()"
      ],
      "metadata": {
        "id": "9T6q7coOvYt9"
      },
      "execution_count": null,
      "outputs": []
    },
    {
      "cell_type": "code",
      "source": [
        "cnn_model_3_history = cnn_model_3.fit([train_input, X_train_encoded_px, X_train_encoded_dx],\n",
        "                            train_labels,\n",
        "                            validation_data=([test_input, X_test_encoded_px, X_test_encoded_dx], test_labels),\n",
        "                            batch_size=32,\n",
        "                            epochs=5,\n",
        "                            callbacks=[model_checkpoint_callback]\n",
        ")"
      ],
      "metadata": {
        "colab": {
          "base_uri": "https://localhost:8080/"
        },
        "id": "ZBeWXBeE1k0q",
        "outputId": "7c46f106-e5d0-4f32-9502-eb59e0c11223"
      },
      "execution_count": null,
      "outputs": [
        {
          "output_type": "stream",
          "name": "stdout",
          "text": [
            "Epoch 1/5\n",
            "3884/3884 [==============================] - 113s 25ms/step - loss: 0.3765 - accuracy: 0.8398 - val_loss: 0.3579 - val_accuracy: 0.8482\n",
            "Epoch 2/5\n",
            "3884/3884 [==============================] - 48s 12ms/step - loss: 0.3342 - accuracy: 0.8546 - val_loss: 0.3493 - val_accuracy: 0.8525\n",
            "Epoch 3/5\n",
            "3884/3884 [==============================] - 43s 11ms/step - loss: 0.3040 - accuracy: 0.8693 - val_loss: 0.3537 - val_accuracy: 0.8559\n",
            "Epoch 4/5\n",
            "3884/3884 [==============================] - 40s 10ms/step - loss: 0.2752 - accuracy: 0.8811 - val_loss: 0.3781 - val_accuracy: 0.8528\n",
            "Epoch 5/5\n",
            "3884/3884 [==============================] - 44s 11ms/step - loss: 0.2494 - accuracy: 0.8925 - val_loss: 0.3974 - val_accuracy: 0.8527\n"
          ]
        }
      ]
    },
    {
      "cell_type": "code",
      "source": [
        "# Plot training and validation loss\n",
        "plt.figure(figsize=(12, 4))\n",
        "\n",
        "# Plot training loss\n",
        "plt.subplot(1, 2, 1)\n",
        "plt.plot(cnn_model_3_history.history['loss'], label='Training Loss', color='navy')\n",
        "plt.plot(cnn_model_3_history.history['val_loss'], label='Validation Loss', color='orange')\n",
        "plt.xlabel('Epoch')\n",
        "plt.ylabel('Loss')\n",
        "plt.title('Training and Validation Loss')\n",
        "plt.legend()\n",
        "\n",
        "# Plot training and validation accuracy\n",
        "plt.subplot(1, 2, 2)\n",
        "plt.plot(cnn_model_3_history.history['accuracy'], label='Training Accuracy', color='navy')\n",
        "plt.plot(cnn_model_3_history.history['val_accuracy'], label='Validation Accuracy', color='orange')\n",
        "plt.xlabel('Epoch')\n",
        "plt.ylabel('Accuracy')\n",
        "plt.title('Training and Validation Accuracy')\n",
        "plt.legend()\n",
        "\n",
        "plt.tight_layout()\n",
        "plt.show()"
      ],
      "metadata": {
        "colab": {
          "base_uri": "https://localhost:8080/",
          "height": 407
        },
        "id": "NMhxR3Ub3Ngv",
        "outputId": "19333958-b054-488e-9d5f-d746e91d052a"
      },
      "execution_count": null,
      "outputs": [
        {
          "output_type": "display_data",
          "data": {
            "text/plain": [
              "<Figure size 1200x400 with 2 Axes>"
            ],
            "image/png": "[encoded data removed]"
          },
          "metadata": {}
        }
      ]
    },
    {
      "cell_type": "code",
      "source": [
        "from keras import regularizers\n",
        "def create_cnn_model_4(MAX_SEQUENCE_LENGTH=100,\n",
        "                     hidden_size = 200,\n",
        "                     dropout=0.3,\n",
        "                     kernel_size=3,\n",
        "                     filters=16,\n",
        "                     learning_rate=0.00005):\n",
        "\n",
        "    cnn_input_layer = tf.keras.layers.Input(shape=(MAX_SEQUENCE_LENGTH,), dtype='int64')\n",
        "\n",
        "    cnn_embedding_layer = Embedding(embedding_matrix.shape[0],\n",
        "                                    embedding_matrix.shape[1],\n",
        "                                    embeddings_initializer=tf.keras.initializers.Constant(embedding_matrix),\n",
        "                                    input_length=MAX_SEQUENCE_LENGTH,\n",
        "                                    trainable=True)\n",
        "    cnn_embeddings = cnn_embedding_layer(cnn_input_layer)\n",
        "\n",
        "    conv_layer = tf.keras.layers.Conv1D(filters=16, kernel_size=kernel_size, strides=3, padding='valid')(cnn_embeddings)\n",
        "    conv_layer = tf.keras.layers.GlobalMaxPooling1D()(conv_layer)\n",
        "\n",
        "    input_px = tf.keras.layers.Input(shape=(MAX_SEQUENCE_LENGTH,), name='input_px')\n",
        "    input_dx = tf.keras.layers.Input(shape=(MAX_SEQUENCE_LENGTH,), name='input_dx')\n",
        "\n",
        "    #Concatenate embedding with dx and px\n",
        "    concatenated = tf.keras.layers.concatenate([conv_layer, input_px, input_dx], axis=-1)\n",
        "\n",
        "    hidden = tf.keras.layers.Dense(hidden_size, activation='relu', kernel_regularizer=regularizers.l2(0.01), name='hidden_layer')(conv_layer)\n",
        "\n",
        "\n",
        "    hidden = tf.keras.layers.Dropout(dropout)(hidden)\n",
        "\n",
        "\n",
        "    cnn_prediction = tf.keras.layers.Dense(1, activation='sigmoid')(hidden)\n",
        "\n",
        "    cnn_model_4 = tf.keras.Model(inputs=[cnn_input_layer, input_px, input_dx], outputs=cnn_prediction)\n",
        "    cnn_model_4.compile(optimizer='adam',\n",
        "                      loss='binary_crossentropy',\n",
        "                      metrics=['accuracy'])\n",
        "\n",
        "    return cnn_model_4"
      ],
      "metadata": {
        "id": "zJhH4T6Q56uR"
      },
      "execution_count": null,
      "outputs": []
    },
    {
      "cell_type": "code",
      "source": [
        "cnn_model_4 = create_cnn_model_4()"
      ],
      "metadata": {
        "id": "DMv25eLa8_Ce"
      },
      "execution_count": null,
      "outputs": []
    },
    {
      "cell_type": "code",
      "source": [
        "cnn_model_4_history = cnn_model_4.fit([train_input, X_train_encoded_px, X_train_encoded_dx],\n",
        "                            train_labels,\n",
        "                            validation_data=([test_input, X_test_encoded_px, X_test_encoded_dx], test_labels),\n",
        "                            batch_size=32,\n",
        "                            epochs=5,\n",
        "                            callbacks=[model_checkpoint_callback]\n",
        ")"
      ],
      "metadata": {
        "colab": {
          "base_uri": "https://localhost:8080/"
        },
        "id": "2nXJNCUP9Dor",
        "outputId": "d8a053be-6fb3-4fd3-f915-75f056d710aa"
      },
      "execution_count": null,
      "outputs": [
        {
          "output_type": "stream",
          "name": "stdout",
          "text": [
            "Epoch 1/5\n",
            "3884/3884 [==============================] - 84s 21ms/step - loss: 0.3861 - accuracy: 0.8378 - val_loss: 0.3596 - val_accuracy: 0.8432\n",
            "Epoch 2/5\n",
            "3884/3884 [==============================] - 45s 12ms/step - loss: 0.3416 - accuracy: 0.8498 - val_loss: 0.3580 - val_accuracy: 0.8440\n",
            "Epoch 3/5\n",
            "3884/3884 [==============================] - 41s 11ms/step - loss: 0.3105 - accuracy: 0.8651 - val_loss: 0.3609 - val_accuracy: 0.8486\n",
            "Epoch 4/5\n",
            "3884/3884 [==============================] - 40s 10ms/step - loss: 0.2807 - accuracy: 0.8811 - val_loss: 0.3735 - val_accuracy: 0.8515\n",
            "Epoch 5/5\n",
            "3884/3884 [==============================] - 39s 10ms/step - loss: 0.2531 - accuracy: 0.8954 - val_loss: 0.3965 - val_accuracy: 0.8462\n"
          ]
        }
      ]
    },
    {
      "cell_type": "code",
      "source": [
        "# Plot training and validation loss\n",
        "plt.figure(figsize=(12, 4))\n",
        "\n",
        "# Plot training loss\n",
        "plt.subplot(1, 2, 1)\n",
        "plt.plot(cnn_model_4_history.history['loss'], label='Training Loss', color='navy')\n",
        "plt.plot(cnn_model_4_history.history['val_loss'], label='Validation Loss', color='orange')\n",
        "plt.xlabel('Epoch')\n",
        "plt.ylabel('Loss')\n",
        "plt.title('Training and Validation Loss')\n",
        "plt.legend()\n",
        "\n",
        "# Plot training and validation accuracy\n",
        "plt.subplot(1, 2, 2)\n",
        "plt.plot(cnn_model_4_history.history['accuracy'], label='Training Accuracy', color='navy')\n",
        "plt.plot(cnn_model_4_history.history['val_accuracy'], label='Validation Accuracy', color='orange')\n",
        "plt.xlabel('Epoch')\n",
        "plt.ylabel('Accuracy')\n",
        "plt.title('Training and Validation Accuracy')\n",
        "plt.legend()\n",
        "\n",
        "plt.tight_layout()\n",
        "plt.show()"
      ],
      "metadata": {
        "colab": {
          "base_uri": "https://localhost:8080/",
          "height": 407
        },
        "id": "hN9o8A7s-GJy",
        "outputId": "7e9d9ed6-fb19-473e-a6fa-5ad3b9000b5c"
      },
      "execution_count": null,
      "outputs": [
        {
          "output_type": "display_data",
          "data": {
            "text/plain": [
              "<Figure size 1200x400 with 2 Axes>"
            ],
            "image/png": "[encoded data removed]"
          },
          "metadata": {}
        }
      ]
    },
    {
      "cell_type": "code",
      "execution_count": null,
      "metadata": {
        "colab": {
          "base_uri": "https://localhost:8080/"
        },
        "id": "xLW34IbETXil",
        "outputId": "79ac22b8-2264-4e20-c607-017fb9b5b920"
      },
      "outputs": [
        {
          "name": "stdout",
          "output_type": "stream",
          "text": [
            "Model: \"model\"\n",
            "__________________________________________________________________________________________________\n",
            " Layer (type)                   Output Shape         Param #     Connected to                     \n",
            "==================================================================================================\n",
            " input_1 (InputLayer)           [(None, 100)]        0           []                               \n",
            "                                                                                                  \n",
            " embedding (Embedding)          (None, 100, 300)     13194600    ['input_1[0][0]']                \n",
            "                                                                                                  \n",
            " conv1d (Conv1D)                (None, 33, 100)      90100       ['embedding[0][0]']              \n",
            "                                                                                                  \n",
            " global_max_pooling1d (GlobalMa  (None, 100)         0           ['conv1d[0][0]']                 \n",
            " xPooling1D)                                                                                      \n",
            "                                                                                                  \n",
            " hidden_layer (Dense)           (None, 200)          20200       ['global_max_pooling1d[0][0]']   \n",
            "                                                                                                  \n",
            " dropout (Dropout)              (None, 200)          0           ['hidden_layer[0][0]']           \n",
            "                                                                                                  \n",
            " input_px (InputLayer)          [(None, 100)]        0           []                               \n",
            "                                                                                                  \n",
            " input_dx (InputLayer)          [(None, 100)]        0           []                               \n",
            "                                                                                                  \n",
            " dense (Dense)                  (None, 1)            201         ['dropout[0][0]']                \n",
            "                                                                                                  \n",
            "==================================================================================================\n",
            "Total params: 13,305,101\n",
            "Trainable params: 13,305,101\n",
            "Non-trainable params: 0\n",
            "__________________________________________________________________________________________________\n",
            "None\n"
          ]
        }
      ],
      "source": [
        "print(cnn_model_2.summary())"
      ]
    },
    {
      "cell_type": "markdown",
      "metadata": {
        "id": "az05EL-po6gJ"
      },
      "source": [
        "# BERT Tokenization of Training and Test Data\n"
      ]
    },
    {
      "cell_type": "code",
      "execution_count": 39,
      "metadata": {
        "colab": {
          "base_uri": "https://localhost:8080/",
          "referenced_widgets": [
            "dc405b0443304eb59c40835b0357c06f",
            "2c263bb490ad4847aa3f9f78a5e78702",
            "12a7a9d82f0942378fa6ce53e8bd2d4d",
            "1c762fda2a1847899a6a734715656fa1",
            "791b6ce012304ab2b712c50e917d3a89",
            "87a793d3fd2e4f219bccc30f3afba523",
            "b5b9e04624804db693e256577763146b",
            "56f52d6259144547907ccbe46ca99354",
            "ecaf809eff924142af96c34deb93340c",
            "bfc9eb5a73ca4dd38a960d2723c78e92",
            "1b7451dd3bcc446b9e77be8061bc0de9",
            "5df230742c4249c8ac4bc9f8254461bc",
            "dcf187c73d7c4e2abaf04b4c448cbdf7",
            "d262beb59a2a445ebc20da6c7d78e670",
            "1ffd9e922dbb4983bcbeece97f0062ff",
            "4e848a7f39b84cb2902d70555cd14819",
            "e28e7793f81a4a9f89348eabd5285bc2",
            "74d8e9f750154214821445ab2de272e6",
            "c73e39666377449286e0cac235dfe14c",
            "289b303e6af7423393580cac810e411e",
            "e598490fa38a41b89437efa7df27faf8",
            "e69f15cc617745808c54227088bb9c08",
            "1863aa5d2a754092a00ec0ead54d42d6",
            "22f650dbd778466589526698fdcf4c99",
            "61d2dc49be4844a585558acf2c7f8f14",
            "bb995435997f419ca89e0aa4cdccccb3",
            "c7d8eb7b9e2944a49df1c6ad7daa26d2",
            "8b26af886608473fbc932b71d795f9f1",
            "fd6789c0e058405398e8d2d4df975596",
            "94c2a496acee470fa6ec69346910969e",
            "72e8b49095d548c8b65fc7154b832949",
            "13107851455745d9a7fb610c13beaa6a",
            "5cf6222acf0d474d9ab2619274b4e8a6"
          ],
          "height": 113
        },
        "id": "DzdPhim2tFCs",
        "outputId": "37ca8141-ec6b-4d9b-d04b-ac0b6facaa6c"
      },
      "outputs": [
        {
          "output_type": "display_data",
          "data": {
            "text/plain": [
              "Downloading (…)solve/main/vocab.txt:   0%|          | 0.00/213k [00:00<?, ?B/s]"
            ],
            "application/vnd.jupyter.widget-view+json": {
              "version_major": 2,
              "version_minor": 0,
              "model_id": "dc405b0443304eb59c40835b0357c06f"
            }
          },
          "metadata": {}
        },
        {
          "output_type": "display_data",
          "data": {
            "text/plain": [
              "Downloading (…)okenizer_config.json:   0%|          | 0.00/29.0 [00:00<?, ?B/s]"
            ],
            "application/vnd.jupyter.widget-view+json": {
              "version_major": 2,
              "version_minor": 0,
              "model_id": "5df230742c4249c8ac4bc9f8254461bc"
            }
          },
          "metadata": {}
        },
        {
          "output_type": "display_data",
          "data": {
            "text/plain": [
              "Downloading (…)lve/main/config.json:   0%|          | 0.00/570 [00:00<?, ?B/s]"
            ],
            "application/vnd.jupyter.widget-view+json": {
              "version_major": 2,
              "version_minor": 0,
              "model_id": "1863aa5d2a754092a00ec0ead54d42d6"
            }
          },
          "metadata": {}
        }
      ],
      "source": [
        "#Load BERT Tokenizer\n",
        "bert_tokenizer = BertTokenizer.from_pretrained('bert-base-cased')"
      ]
    },
    {
      "cell_type": "code",
      "execution_count": 40,
      "metadata": {
        "id": "YjFoUXlmZ22F"
      },
      "outputs": [],
      "source": [
        "MAX_SEQUENCE_LENGTH = 100\n",
        "\n",
        "X_train_nlp = bert_tokenizer(list(X_train_nlp),\n",
        "              max_length=MAX_SEQUENCE_LENGTH,\n",
        "              truncation=True,\n",
        "              padding='max_length',\n",
        "              return_tensors='tf')\n",
        "\n",
        "X_test_nlp = bert_tokenizer(list(X_test_nlp),\n",
        "              max_length=MAX_SEQUENCE_LENGTH,\n",
        "              truncation=True,\n",
        "              padding='max_length',\n",
        "              return_tensors='tf')"
      ]
    },
    {
      "cell_type": "markdown",
      "metadata": {
        "id": "PeEkX9apPhym"
      },
      "source": [
        "# Create BERT Model (Text Only)"
      ]
    },
    {
      "cell_type": "code",
      "execution_count": 41,
      "metadata": {
        "id": "0FUpRJndPf_k"
      },
      "outputs": [],
      "source": [
        "def create_bert_model(MAX_SEQUENCE_LENGTH=100,\n",
        "                                     hidden_size = 200,\n",
        "                                     dropout=0.3,\n",
        "                                     learning_rate=0.00005):\n",
        "\n",
        "    #Load BERT model\n",
        "    bert_model = TFBertModel.from_pretrained('bert-base-cased')\n",
        "    bert_model.trainable = True\n",
        "\n",
        "    input_ids = tf.keras.layers.Input(shape=(MAX_SEQUENCE_LENGTH,), dtype=tf.int64, name='input_ids_layer')\n",
        "    token_type_ids = tf.keras.layers.Input(shape=(MAX_SEQUENCE_LENGTH,), dtype=tf.int64, name='token_type_ids_layer')\n",
        "    attention_mask = tf.keras.layers.Input(shape=(MAX_SEQUENCE_LENGTH,), dtype=tf.int64, name='attention_mask_layer')\n",
        "\n",
        "    bert_inputs = {'input_ids': input_ids,\n",
        "                   'token_type_ids': token_type_ids,\n",
        "                   'attention_mask': attention_mask}\n",
        "\n",
        "    bert_out = bert_model(bert_inputs)[1]\n",
        "\n",
        "    hidden = tf.keras.layers.Dense(hidden_size, activation='relu', name='hidden_layer')(bert_out)\n",
        "    hidden = tf.keras.layers.Dropout(dropout)(hidden)\n",
        "\n",
        "\n",
        "    classification = tf.keras.layers.Dense(1, activation='sigmoid',name='classification_layer')(hidden)\n",
        "\n",
        "    bert_model = tf.keras.Model(inputs=[input_ids, token_type_ids, attention_mask], outputs=[classification])\n",
        "\n",
        "    bert_model.compile(optimizer=tf.keras.optimizers.Adam(learning_rate=learning_rate),\n",
        "                                 loss=tf.keras.losses.BinaryCrossentropy(from_logits=False),\n",
        "                                 metrics=['accuracy', custom_f1_score])\n",
        "\n",
        "    return bert_model"
      ]
    },
    {
      "cell_type": "code",
      "execution_count": 42,
      "metadata": {
        "colab": {
          "base_uri": "https://localhost:8080/",
          "height": 156,
          "referenced_widgets": [
            "7f97d7cde688408683c84744434ce01a",
            "fa97615a8c2d4b9fac376b4bfc67e4d7",
            "ee986696841d4d679b9bccbe16bb719d",
            "7d1400dcddea441e962e1a4764cd198e",
            "28e65fd3d955452c85b72e5a4de09841",
            "0c6c8408d13b40d597c42a5ec3d9f531",
            "d658e27528d24fdb98ea6e0ca0a8f748",
            "0ad10d9c4b51498c843f0fe359276cc5",
            "c4295dc5fb6142b4bb524b1cae496b92",
            "c80dac7747104b3c88ae0fde02f4e109",
            "9ff590c3063847919db01e116f6c12cc"
          ]
        },
        "id": "DYVjUPfVSf03",
        "outputId": "69a06e6e-4d9b-4054-de0e-77a3c345b57e"
      },
      "outputs": [
        {
          "output_type": "display_data",
          "data": {
            "text/plain": [
              "Downloading model.safetensors:   0%|          | 0.00/436M [00:00<?, ?B/s]"
            ],
            "application/vnd.jupyter.widget-view+json": {
              "version_major": 2,
              "version_minor": 0,
              "model_id": "7f97d7cde688408683c84744434ce01a"
            }
          },
          "metadata": {}
        },
        {
          "output_type": "stream",
          "name": "stderr",
          "text": [
            "Some weights of the PyTorch model were not used when initializing the TF 2.0 model TFBertModel: ['cls.predictions.bias', 'cls.predictions.transform.dense.bias', 'cls.seq_relationship.bias', 'cls.seq_relationship.weight', 'cls.predictions.transform.LayerNorm.weight', 'cls.predictions.transform.LayerNorm.bias', 'cls.predictions.transform.dense.weight']\n",
            "- This IS expected if you are initializing TFBertModel from a PyTorch model trained on another task or with another architecture (e.g. initializing a TFBertForSequenceClassification model from a BertForPreTraining model).\n",
            "- This IS NOT expected if you are initializing TFBertModel from a PyTorch model that you expect to be exactly identical (e.g. initializing a TFBertForSequenceClassification model from a BertForSequenceClassification model).\n",
            "All the weights of TFBertModel were initialized from the PyTorch model.\n",
            "If your task is similar to the task the model of the checkpoint was trained on, you can already use TFBertModel for predictions without further training.\n"
          ]
        }
      ],
      "source": [
        "bert_model = create_bert_model()"
      ]
    },
    {
      "cell_type": "code",
      "execution_count": 43,
      "metadata": {
        "colab": {
          "base_uri": "https://localhost:8080/"
        },
        "id": "Wiyo097rS6VW",
        "outputId": "a987355f-30a4-4c15-c704-d43ae084bfd2"
      },
      "outputs": [
        {
          "output_type": "stream",
          "name": "stdout",
          "text": [
            "29188/29188 [==============================] - 1085s 36ms/step - loss: 0.5319 - accuracy: 0.7812 - custom_f1_score: 0.8636 - val_loss: 0.5278 - val_accuracy: 0.7805 - val_custom_f1_score: 0.8629\n"
          ]
        }
      ],
      "source": [
        "bert_history = bert_model.fit([X_train_nlp.input_ids, X_train_nlp.token_type_ids, X_train_nlp.attention_mask],\n",
        "                                y_train_nlp,\n",
        "                                validation_data=([X_test_nlp.input_ids, X_test_nlp.token_type_ids, X_test_nlp.attention_mask], y_test_nlp),\n",
        "                                batch_size=5,\n",
        "                                epochs=1,\n",
        "                            )"
      ]
    },
    {
      "cell_type": "markdown",
      "metadata": {
        "id": "4H7O469kpbQN"
      },
      "source": [
        "# Create Bert CNN Model"
      ]
    },
    {
      "cell_type": "code",
      "execution_count": 44,
      "metadata": {
        "id": "4KRGQQ-62Sz_"
      },
      "outputs": [],
      "source": [
        "def create_bert_cnn_model(MAX_SEQUENCE_LENGTH=100,\n",
        "                                     hidden_size = 200,\n",
        "                                     dropout=0.3,\n",
        "                                     kernel_size=5,\n",
        "                                     filters=32,\n",
        "                                     learning_rate=0.00005):\n",
        "\n",
        "    #Load BERT model\n",
        "    bert_model = TFBertModel.from_pretrained('bert-base-cased')\n",
        "    bert_model.trainable = True\n",
        "\n",
        "    input_ids = tf.keras.layers.Input(shape=(MAX_SEQUENCE_LENGTH,), dtype=tf.int64, name='input_ids_layer')\n",
        "    token_type_ids = tf.keras.layers.Input(shape=(MAX_SEQUENCE_LENGTH,), dtype=tf.int64, name='token_type_ids_layer')\n",
        "    attention_mask = tf.keras.layers.Input(shape=(MAX_SEQUENCE_LENGTH,), dtype=tf.int64, name='attention_mask_layer')\n",
        "\n",
        "    bert_inputs = {'input_ids': input_ids,\n",
        "                   'token_type_ids': token_type_ids,\n",
        "                   'attention_mask': attention_mask}\n",
        "\n",
        "    bert_out = bert_model(bert_inputs)[0]\n",
        "\n",
        "    conv_layer = tf.keras.layers.Conv1D(filters=filters, kernel_size=kernel_size, activation='relu')(bert_out)\n",
        "    conv_layer = tf.keras.layers.GlobalMaxPooling1D()(conv_layer)\n",
        "\n",
        "    hidden = tf.keras.layers.Dense(hidden_size, activation='relu', name='hidden_layer')(conv_layer)\n",
        "\n",
        "\n",
        "    hidden = tf.keras.layers.Dropout(dropout)(hidden)\n",
        "\n",
        "\n",
        "    classification = tf.keras.layers.Dense(1, activation='sigmoid',name='classification_layer')(hidden)\n",
        "\n",
        "    classification_model = tf.keras.Model(inputs=[input_ids, token_type_ids, attention_mask], outputs=[classification])\n",
        "\n",
        "    classification_model.compile(optimizer=tf.keras.optimizers.Adam(learning_rate=learning_rate),\n",
        "                                 loss=tf.keras.losses.BinaryCrossentropy(from_logits=False),\n",
        "                                 metrics=['accuracy', custom_f1_score])\n",
        "\n",
        "    return classification_model"
      ]
    },
    {
      "cell_type": "code",
      "execution_count": 45,
      "metadata": {
        "colab": {
          "base_uri": "https://localhost:8080/"
        },
        "id": "P1hpZVQNsvzB",
        "outputId": "2cdfeca4-ae83-42e1-dc36-d72b18ac846a"
      },
      "outputs": [
        {
          "output_type": "stream",
          "name": "stderr",
          "text": [
            "Some weights of the PyTorch model were not used when initializing the TF 2.0 model TFBertModel: ['cls.predictions.bias', 'cls.predictions.transform.dense.bias', 'cls.seq_relationship.bias', 'cls.seq_relationship.weight', 'cls.predictions.transform.LayerNorm.weight', 'cls.predictions.transform.LayerNorm.bias', 'cls.predictions.transform.dense.weight']\n",
            "- This IS expected if you are initializing TFBertModel from a PyTorch model trained on another task or with another architecture (e.g. initializing a TFBertForSequenceClassification model from a BertForPreTraining model).\n",
            "- This IS NOT expected if you are initializing TFBertModel from a PyTorch model that you expect to be exactly identical (e.g. initializing a TFBertForSequenceClassification model from a BertForSequenceClassification model).\n",
            "All the weights of TFBertModel were initialized from the PyTorch model.\n",
            "If your task is similar to the task the model of the checkpoint was trained on, you can already use TFBertModel for predictions without further training.\n"
          ]
        }
      ],
      "source": [
        "bert_cnn_model = create_bert_cnn_model()"
      ]
    },
    {
      "cell_type": "code",
      "execution_count": 46,
      "metadata": {
        "id": "vLDfzJk0KR_E"
      },
      "outputs": [],
      "source": [
        "# Add a model checkpoint callback to save\n",
        "# the trained model weights after each epoch.\n",
        "\n",
        "checkpoint_dir = '/content/drive/MyDrive/W266 Final Project/model_checkpoints/'\n",
        "checkpoint_filepath = checkpoint_dir + 'bert_cnn_weights.{epoch:02d}-{val_accuracy:.2f}.hdf5'\n",
        "model_checkpoint_callback = tf.keras.callbacks.ModelCheckpoint(\n",
        "    filepath=checkpoint_filepath,\n",
        "    save_weights_only=True)"
      ]
    },
    {
      "cell_type": "code",
      "execution_count": 48,
      "metadata": {
        "colab": {
          "base_uri": "https://localhost:8080/"
        },
        "id": "Kxp2rCpupiZx",
        "outputId": "97647092-34a4-4d6d-c3a3-1696fee95df4"
      },
      "outputs": [
        {
          "output_type": "stream",
          "name": "stderr",
          "text": [
            "Some weights of the PyTorch model were not used when initializing the TF 2.0 model TFBertModel: ['cls.predictions.bias', 'cls.predictions.transform.dense.bias', 'cls.seq_relationship.bias', 'cls.seq_relationship.weight', 'cls.predictions.transform.LayerNorm.weight', 'cls.predictions.transform.LayerNorm.bias', 'cls.predictions.transform.dense.weight']\n",
            "- This IS expected if you are initializing TFBertModel from a PyTorch model trained on another task or with another architecture (e.g. initializing a TFBertForSequenceClassification model from a BertForPreTraining model).\n",
            "- This IS NOT expected if you are initializing TFBertModel from a PyTorch model that you expect to be exactly identical (e.g. initializing a TFBertForSequenceClassification model from a BertForSequenceClassification model).\n",
            "All the weights of TFBertModel were initialized from the PyTorch model.\n",
            "If your task is similar to the task the model of the checkpoint was trained on, you can already use TFBertModel for predictions without further training.\n",
            "WARNING:tensorflow:Gradients do not exist for variables ['tf_bert_model_3/bert/pooler/dense/kernel:0', 'tf_bert_model_3/bert/pooler/dense/bias:0'] when minimizing the loss. If you're using `model.compile()`, did you forget to provide a `loss` argument?\n",
            "WARNING:tensorflow:Gradients do not exist for variables ['tf_bert_model_3/bert/pooler/dense/kernel:0', 'tf_bert_model_3/bert/pooler/dense/bias:0'] when minimizing the loss. If you're using `model.compile()`, did you forget to provide a `loss` argument?\n",
            "WARNING:tensorflow:Gradients do not exist for variables ['tf_bert_model_3/bert/pooler/dense/kernel:0', 'tf_bert_model_3/bert/pooler/dense/bias:0'] when minimizing the loss. If you're using `model.compile()`, did you forget to provide a `loss` argument?\n",
            "WARNING:tensorflow:Gradients do not exist for variables ['tf_bert_model_3/bert/pooler/dense/kernel:0', 'tf_bert_model_3/bert/pooler/dense/bias:0'] when minimizing the loss. If you're using `model.compile()`, did you forget to provide a `loss` argument?\n"
          ]
        },
        {
          "output_type": "stream",
          "name": "stdout",
          "text": [
            "29188/29188 [==============================] - 1084s 36ms/step - loss: 0.5306 - accuracy: 0.7818 - custom_f1_score: 0.8643 - val_loss: 0.5338 - val_accuracy: 0.7805 - val_custom_f1_score: 0.8629\n"
          ]
        }
      ],
      "source": [
        "bert_cnn_model = create_bert_cnn_model()\n",
        "\n",
        "bert_cnn_model_history = bert_cnn_model.fit(\n",
        "    [X_train_nlp.input_ids, X_train_nlp.token_type_ids, X_train_nlp.attention_mask],\n",
        "    y_train_nlp,\n",
        "    validation_data=([X_test_nlp.input_ids, X_test_nlp.token_type_ids, X_test_nlp.attention_mask], y_test_nlp),\n",
        "    batch_size=5,\n",
        "    epochs=1\n",
        ")"
      ]
    },
    {
      "cell_type": "code",
      "execution_count": 49,
      "metadata": {
        "id": "lP2cixLXK2Uv"
      },
      "outputs": [],
      "source": [
        "# Split training and testing sets for three features and label\n",
        "X_train_texts, X_test_texts, X_train_encoded_px, X_test_encoded_px, X_train_encoded_dx, X_test_encoded_dx, y_train, y_test = train_test_split(\n",
        "    texts, encoded_px_code, encoded_dx_code, labels, test_size=0.2, random_state=42\n",
        ")"
      ]
    },
    {
      "cell_type": "code",
      "execution_count": 50,
      "metadata": {
        "id": "5TuNOOZHUxe0"
      },
      "outputs": [],
      "source": [
        "os.environ['TOKENIZERS_PARALLELISM'] = 'true'\n",
        "\n",
        "MAX_SEQUENCE_LENGTH = 100\n",
        "\n",
        "X_train_inputs = bert_tokenizer(\n",
        "    list(X_train_texts),\n",
        "    max_length=MAX_SEQUENCE_LENGTH,\n",
        "    padding='max_length',\n",
        "    truncation=True,\n",
        "    return_tensors='tf'\n",
        ")\n",
        "\n",
        "X_test_inputs = bert_tokenizer(\n",
        "    list(X_test_texts),\n",
        "    max_length=MAX_SEQUENCE_LENGTH,\n",
        "    padding='max_length',\n",
        "    truncation=True,\n",
        "    return_tensors='tf'\n",
        ")\n"
      ]
    },
    {
      "cell_type": "code",
      "source": [],
      "metadata": {
        "id": "tZaGAI1LNzhu"
      },
      "execution_count": null,
      "outputs": []
    }
  ],
  "metadata": {
    "accelerator": "GPU",
    "colab": {
      "provenance": [],
      "gpuType": "A100"
    },
    "kernelspec": {
      "display_name": "Python 3",
      "name": "python3"
    },
    "language_info": {
      "name": "python"
    },
    "widgets": {
      "application/vnd.jupyter.widget-state+json": {
        "dc405b0443304eb59c40835b0357c06f": {
          "model_module": "@jupyter-widgets/controls",
          "model_name": "HBoxModel",
          "model_module_version": "1.5.0",
          "state": {
            "_dom_classes": [],
            "_model_module": "@jupyter-widgets/controls",
            "_model_module_version": "1.5.0",
            "_model_name": "HBoxModel",
            "_view_count": null,
            "_view_module": "@jupyter-widgets/controls",
            "_view_module_version": "1.5.0",
            "_view_name": "HBoxView",
            "box_style": "",
            "children": [
              "IPY_MODEL_2c263bb490ad4847aa3f9f78a5e78702",
              "IPY_MODEL_12a7a9d82f0942378fa6ce53e8bd2d4d",
              "IPY_MODEL_1c762fda2a1847899a6a734715656fa1"
            ],
            "layout": "IPY_MODEL_791b6ce012304ab2b712c50e917d3a89"
          }
        },
        "2c263bb490ad4847aa3f9f78a5e78702": {
          "model_module": "@jupyter-widgets/controls",
          "model_name": "HTMLModel",
          "model_module_version": "1.5.0",
          "state": {
            "_dom_classes": [],
            "_model_module": "@jupyter-widgets/controls",
            "_model_module_version": "1.5.0",
            "_model_name": "HTMLModel",
            "_view_count": null,
            "_view_module": "@jupyter-widgets/controls",
            "_view_module_version": "1.5.0",
            "_view_name": "HTMLView",
            "description": "",
            "description_tooltip": null,
            "layout": "IPY_MODEL_87a793d3fd2e4f219bccc30f3afba523",
            "placeholder": "​",
            "style": "IPY_MODEL_b5b9e04624804db693e256577763146b",
            "value": "Downloading (…)solve/main/vocab.txt: 100%"
          }
        },
        "12a7a9d82f0942378fa6ce53e8bd2d4d": {
          "model_module": "@jupyter-widgets/controls",
          "model_name": "FloatProgressModel",
          "model_module_version": "1.5.0",
          "state": {
            "_dom_classes": [],
            "_model_module": "@jupyter-widgets/controls",
            "_model_module_version": "1.5.0",
            "_model_name": "FloatProgressModel",
            "_view_count": null,
            "_view_module": "@jupyter-widgets/controls",
            "_view_module_version": "1.5.0",
            "_view_name": "ProgressView",
            "bar_style": "success",
            "description": "",
            "description_tooltip": null,
            "layout": "IPY_MODEL_56f52d6259144547907ccbe46ca99354",
            "max": 213450,
            "min": 0,
            "orientation": "horizontal",
            "style": "IPY_MODEL_ecaf809eff924142af96c34deb93340c",
            "value": 213450
          }
        },
        "1c762fda2a1847899a6a734715656fa1": {
          "model_module": "@jupyter-widgets/controls",
          "model_name": "HTMLModel",
          "model_module_version": "1.5.0",
          "state": {
            "_dom_classes": [],
            "_model_module": "@jupyter-widgets/controls",
            "_model_module_version": "1.5.0",
            "_model_name": "HTMLModel",
            "_view_count": null,
            "_view_module": "@jupyter-widgets/controls",
            "_view_module_version": "1.5.0",
            "_view_name": "HTMLView",
            "description": "",
            "description_tooltip": null,
            "layout": "IPY_MODEL_bfc9eb5a73ca4dd38a960d2723c78e92",
            "placeholder": "​",
            "style": "IPY_MODEL_1b7451dd3bcc446b9e77be8061bc0de9",
            "value": " 213k/213k [00:00&lt;00:00, 13.5MB/s]"
          }
        },
        "791b6ce012304ab2b712c50e917d3a89": {
          "model_module": "@jupyter-widgets/base",
          "model_name": "LayoutModel",
          "model_module_version": "1.2.0",
          "state": {
            "_model_module": "@jupyter-widgets/base",
            "_model_module_version": "1.2.0",
            "_model_name": "LayoutModel",
            "_view_count": null,
            "_view_module": "@jupyter-widgets/base",
            "_view_module_version": "1.2.0",
            "_view_name": "LayoutView",
            "align_content": null,
            "align_items": null,
            "align_self": null,
            "border": null,
            "bottom": null,
            "display": null,
            "flex": null,
            "flex_flow": null,
            "grid_area": null,
            "grid_auto_columns": null,
            "grid_auto_flow": null,
            "grid_auto_rows": null,
            "grid_column": null,
            "grid_gap": null,
            "grid_row": null,
            "grid_template_areas": null,
            "grid_template_columns": null,
            "grid_template_rows": null,
            "height": null,
            "justify_content": null,
            "justify_items": null,
            "left": null,
            "margin": null,
            "max_height": null,
            "max_width": null,
            "min_height": null,
            "min_width": null,
            "object_fit": null,
            "object_position": null,
            "order": null,
            "overflow": null,
            "overflow_x": null,
            "overflow_y": null,
            "padding": null,
            "right": null,
            "top": null,
            "visibility": null,
            "width": null
          }
        },
        "87a793d3fd2e4f219bccc30f3afba523": {
          "model_module": "@jupyter-widgets/base",
          "model_name": "LayoutModel",
          "model_module_version": "1.2.0",
          "state": {
            "_model_module": "@jupyter-widgets/base",
            "_model_module_version": "1.2.0",
            "_model_name": "LayoutModel",
            "_view_count": null,
            "_view_module": "@jupyter-widgets/base",
            "_view_module_version": "1.2.0",
            "_view_name": "LayoutView",
            "align_content": null,
            "align_items": null,
            "align_self": null,
            "border": null,
            "bottom": null,
            "display": null,
            "flex": null,
            "flex_flow": null,
            "grid_area": null,
            "grid_auto_columns": null,
            "grid_auto_flow": null,
            "grid_auto_rows": null,
            "grid_column": null,
            "grid_gap": null,
            "grid_row": null,
            "grid_template_areas": null,
            "grid_template_columns": null,
            "grid_template_rows": null,
            "height": null,
            "justify_content": null,
            "justify_items": null,
            "left": null,
            "margin": null,
            "max_height": null,
            "max_width": null,
            "min_height": null,
            "min_width": null,
            "object_fit": null,
            "object_position": null,
            "order": null,
            "overflow": null,
            "overflow_x": null,
            "overflow_y": null,
            "padding": null,
            "right": null,
            "top": null,
            "visibility": null,
            "width": null
          }
        },
        "b5b9e04624804db693e256577763146b": {
          "model_module": "@jupyter-widgets/controls",
          "model_name": "DescriptionStyleModel",
          "model_module_version": "1.5.0",
          "state": {
            "_model_module": "@jupyter-widgets/controls",
            "_model_module_version": "1.5.0",
            "_model_name": "DescriptionStyleModel",
            "_view_count": null,
            "_view_module": "@jupyter-widgets/base",
            "_view_module_version": "1.2.0",
            "_view_name": "StyleView",
            "description_width": ""
          }
        },
        "56f52d6259144547907ccbe46ca99354": {
          "model_module": "@jupyter-widgets/base",
          "model_name": "LayoutModel",
          "model_module_version": "1.2.0",
          "state": {
            "_model_module": "@jupyter-widgets/base",
            "_model_module_version": "1.2.0",
            "_model_name": "LayoutModel",
            "_view_count": null,
            "_view_module": "@jupyter-widgets/base",
            "_view_module_version": "1.2.0",
            "_view_name": "LayoutView",
            "align_content": null,
            "align_items": null,
            "align_self": null,
            "border": null,
            "bottom": null,
            "display": null,
            "flex": null,
            "flex_flow": null,
            "grid_area": null,
            "grid_auto_columns": null,
            "grid_auto_flow": null,
            "grid_auto_rows": null,
            "grid_column": null,
            "grid_gap": null,
            "grid_row": null,
            "grid_template_areas": null,
            "grid_template_columns": null,
            "grid_template_rows": null,
            "height": null,
            "justify_content": null,
            "justify_items": null,
            "left": null,
            "margin": null,
            "max_height": null,
            "max_width": null,
            "min_height": null,
            "min_width": null,
            "object_fit": null,
            "object_position": null,
            "order": null,
            "overflow": null,
            "overflow_x": null,
            "overflow_y": null,
            "padding": null,
            "right": null,
            "top": null,
            "visibility": null,
            "width": null
          }
        },
        "ecaf809eff924142af96c34deb93340c": {
          "model_module": "@jupyter-widgets/controls",
          "model_name": "ProgressStyleModel",
          "model_module_version": "1.5.0",
          "state": {
            "_model_module": "@jupyter-widgets/controls",
            "_model_module_version": "1.5.0",
            "_model_name": "ProgressStyleModel",
            "_view_count": null,
            "_view_module": "@jupyter-widgets/base",
            "_view_module_version": "1.2.0",
            "_view_name": "StyleView",
            "bar_color": null,
            "description_width": ""
          }
        },
        "bfc9eb5a73ca4dd38a960d2723c78e92": {
          "model_module": "@jupyter-widgets/base",
          "model_name": "LayoutModel",
          "model_module_version": "1.2.0",
          "state": {
            "_model_module": "@jupyter-widgets/base",
            "_model_module_version": "1.2.0",
            "_model_name": "LayoutModel",
            "_view_count": null,
            "_view_module": "@jupyter-widgets/base",
            "_view_module_version": "1.2.0",
            "_view_name": "LayoutView",
            "align_content": null,
            "align_items": null,
            "align_self": null,
            "border": null,
            "bottom": null,
            "display": null,
            "flex": null,
            "flex_flow": null,
            "grid_area": null,
            "grid_auto_columns": null,
            "grid_auto_flow": null,
            "grid_auto_rows": null,
            "grid_column": null,
            "grid_gap": null,
            "grid_row": null,
            "grid_template_areas": null,
            "grid_template_columns": null,
            "grid_template_rows": null,
            "height": null,
            "justify_content": null,
            "justify_items": null,
            "left": null,
            "margin": null,
            "max_height": null,
            "max_width": null,
            "min_height": null,
            "min_width": null,
            "object_fit": null,
            "object_position": null,
            "order": null,
            "overflow": null,
            "overflow_x": null,
            "overflow_y": null,
            "padding": null,
            "right": null,
            "top": null,
            "visibility": null,
            "width": null
          }
        },
        "1b7451dd3bcc446b9e77be8061bc0de9": {
          "model_module": "@jupyter-widgets/controls",
          "model_name": "DescriptionStyleModel",
          "model_module_version": "1.5.0",
          "state": {
            "_model_module": "@jupyter-widgets/controls",
            "_model_module_version": "1.5.0",
            "_model_name": "DescriptionStyleModel",
            "_view_count": null,
            "_view_module": "@jupyter-widgets/base",
            "_view_module_version": "1.2.0",
            "_view_name": "StyleView",
            "description_width": ""
          }
        },
        "5df230742c4249c8ac4bc9f8254461bc": {
          "model_module": "@jupyter-widgets/controls",
          "model_name": "HBoxModel",
          "model_module_version": "1.5.0",
          "state": {
            "_dom_classes": [],
            "_model_module": "@jupyter-widgets/controls",
            "_model_module_version": "1.5.0",
            "_model_name": "HBoxModel",
            "_view_count": null,
            "_view_module": "@jupyter-widgets/controls",
            "_view_module_version": "1.5.0",
            "_view_name": "HBoxView",
            "box_style": "",
            "children": [
              "IPY_MODEL_dcf187c73d7c4e2abaf04b4c448cbdf7",
              "IPY_MODEL_d262beb59a2a445ebc20da6c7d78e670",
              "IPY_MODEL_1ffd9e922dbb4983bcbeece97f0062ff"
            ],
            "layout": "IPY_MODEL_4e848a7f39b84cb2902d70555cd14819"
          }
        },
        "dcf187c73d7c4e2abaf04b4c448cbdf7": {
          "model_module": "@jupyter-widgets/controls",
          "model_name": "HTMLModel",
          "model_module_version": "1.5.0",
          "state": {
            "_dom_classes": [],
            "_model_module": "@jupyter-widgets/controls",
            "_model_module_version": "1.5.0",
            "_model_name": "HTMLModel",
            "_view_count": null,
            "_view_module": "@jupyter-widgets/controls",
            "_view_module_version": "1.5.0",
            "_view_name": "HTMLView",
            "description": "",
            "description_tooltip": null,
            "layout": "IPY_MODEL_e28e7793f81a4a9f89348eabd5285bc2",
            "placeholder": "​",
            "style": "IPY_MODEL_74d8e9f750154214821445ab2de272e6",
            "value": "Downloading (…)okenizer_config.json: 100%"
          }
        },
        "d262beb59a2a445ebc20da6c7d78e670": {
          "model_module": "@jupyter-widgets/controls",
          "model_name": "FloatProgressModel",
          "model_module_version": "1.5.0",
          "state": {
            "_dom_classes": [],
            "_model_module": "@jupyter-widgets/controls",
            "_model_module_version": "1.5.0",
            "_model_name": "FloatProgressModel",
            "_view_count": null,
            "_view_module": "@jupyter-widgets/controls",
            "_view_module_version": "1.5.0",
            "_view_name": "ProgressView",
            "bar_style": "success",
            "description": "",
            "description_tooltip": null,
            "layout": "IPY_MODEL_c73e39666377449286e0cac235dfe14c",
            "max": 29,
            "min": 0,
            "orientation": "horizontal",
            "style": "IPY_MODEL_289b303e6af7423393580cac810e411e",
            "value": 29
          }
        },
        "1ffd9e922dbb4983bcbeece97f0062ff": {
          "model_module": "@jupyter-widgets/controls",
          "model_name": "HTMLModel",
          "model_module_version": "1.5.0",
          "state": {
            "_dom_classes": [],
            "_model_module": "@jupyter-widgets/controls",
            "_model_module_version": "1.5.0",
            "_model_name": "HTMLModel",
            "_view_count": null,
            "_view_module": "@jupyter-widgets/controls",
            "_view_module_version": "1.5.0",
            "_view_name": "HTMLView",
            "description": "",
            "description_tooltip": null,
            "layout": "IPY_MODEL_e598490fa38a41b89437efa7df27faf8",
            "placeholder": "​",
            "style": "IPY_MODEL_e69f15cc617745808c54227088bb9c08",
            "value": " 29.0/29.0 [00:00&lt;00:00, 2.36kB/s]"
          }
        },
        "4e848a7f39b84cb2902d70555cd14819": {
          "model_module": "@jupyter-widgets/base",
          "model_name": "LayoutModel",
          "model_module_version": "1.2.0",
          "state": {
            "_model_module": "@jupyter-widgets/base",
            "_model_module_version": "1.2.0",
            "_model_name": "LayoutModel",
            "_view_count": null,
            "_view_module": "@jupyter-widgets/base",
            "_view_module_version": "1.2.0",
            "_view_name": "LayoutView",
            "align_content": null,
            "align_items": null,
            "align_self": null,
            "border": null,
            "bottom": null,
            "display": null,
            "flex": null,
            "flex_flow": null,
            "grid_area": null,
            "grid_auto_columns": null,
            "grid_auto_flow": null,
            "grid_auto_rows": null,
            "grid_column": null,
            "grid_gap": null,
            "grid_row": null,
            "grid_template_areas": null,
            "grid_template_columns": null,
            "grid_template_rows": null,
            "height": null,
            "justify_content": null,
            "justify_items": null,
            "left": null,
            "margin": null,
            "max_height": null,
            "max_width": null,
            "min_height": null,
            "min_width": null,
            "object_fit": null,
            "object_position": null,
            "order": null,
            "overflow": null,
            "overflow_x": null,
            "overflow_y": null,
            "padding": null,
            "right": null,
            "top": null,
            "visibility": null,
            "width": null
          }
        },
        "e28e7793f81a4a9f89348eabd5285bc2": {
          "model_module": "@jupyter-widgets/base",
          "model_name": "LayoutModel",
          "model_module_version": "1.2.0",
          "state": {
            "_model_module": "@jupyter-widgets/base",
            "_model_module_version": "1.2.0",
            "_model_name": "LayoutModel",
            "_view_count": null,
            "_view_module": "@jupyter-widgets/base",
            "_view_module_version": "1.2.0",
            "_view_name": "LayoutView",
            "align_content": null,
            "align_items": null,
            "align_self": null,
            "border": null,
            "bottom": null,
            "display": null,
            "flex": null,
            "flex_flow": null,
            "grid_area": null,
            "grid_auto_columns": null,
            "grid_auto_flow": null,
            "grid_auto_rows": null,
            "grid_column": null,
            "grid_gap": null,
            "grid_row": null,
            "grid_template_areas": null,
            "grid_template_columns": null,
            "grid_template_rows": null,
            "height": null,
            "justify_content": null,
            "justify_items": null,
            "left": null,
            "margin": null,
            "max_height": null,
            "max_width": null,
            "min_height": null,
            "min_width": null,
            "object_fit": null,
            "object_position": null,
            "order": null,
            "overflow": null,
            "overflow_x": null,
            "overflow_y": null,
            "padding": null,
            "right": null,
            "top": null,
            "visibility": null,
            "width": null
          }
        },
        "74d8e9f750154214821445ab2de272e6": {
          "model_module": "@jupyter-widgets/controls",
          "model_name": "DescriptionStyleModel",
          "model_module_version": "1.5.0",
          "state": {
            "_model_module": "@jupyter-widgets/controls",
            "_model_module_version": "1.5.0",
            "_model_name": "DescriptionStyleModel",
            "_view_count": null,
            "_view_module": "@jupyter-widgets/base",
            "_view_module_version": "1.2.0",
            "_view_name": "StyleView",
            "description_width": ""
          }
        },
        "c73e39666377449286e0cac235dfe14c": {
          "model_module": "@jupyter-widgets/base",
          "model_name": "LayoutModel",
          "model_module_version": "1.2.0",
          "state": {
            "_model_module": "@jupyter-widgets/base",
            "_model_module_version": "1.2.0",
            "_model_name": "LayoutModel",
            "_view_count": null,
            "_view_module": "@jupyter-widgets/base",
            "_view_module_version": "1.2.0",
            "_view_name": "LayoutView",
            "align_content": null,
            "align_items": null,
            "align_self": null,
            "border": null,
            "bottom": null,
            "display": null,
            "flex": null,
            "flex_flow": null,
            "grid_area": null,
            "grid_auto_columns": null,
            "grid_auto_flow": null,
            "grid_auto_rows": null,
            "grid_column": null,
            "grid_gap": null,
            "grid_row": null,
            "grid_template_areas": null,
            "grid_template_columns": null,
            "grid_template_rows": null,
            "height": null,
            "justify_content": null,
            "justify_items": null,
            "left": null,
            "margin": null,
            "max_height": null,
            "max_width": null,
            "min_height": null,
            "min_width": null,
            "object_fit": null,
            "object_position": null,
            "order": null,
            "overflow": null,
            "overflow_x": null,
            "overflow_y": null,
            "padding": null,
            "right": null,
            "top": null,
            "visibility": null,
            "width": null
          }
        },
        "289b303e6af7423393580cac810e411e": {
          "model_module": "@jupyter-widgets/controls",
          "model_name": "ProgressStyleModel",
          "model_module_version": "1.5.0",
          "state": {
            "_model_module": "@jupyter-widgets/controls",
            "_model_module_version": "1.5.0",
            "_model_name": "ProgressStyleModel",
            "_view_count": null,
            "_view_module": "@jupyter-widgets/base",
            "_view_module_version": "1.2.0",
            "_view_name": "StyleView",
            "bar_color": null,
            "description_width": ""
          }
        },
        "e598490fa38a41b89437efa7df27faf8": {
          "model_module": "@jupyter-widgets/base",
          "model_name": "LayoutModel",
          "model_module_version": "1.2.0",
          "state": {
            "_model_module": "@jupyter-widgets/base",
            "_model_module_version": "1.2.0",
            "_model_name": "LayoutModel",
            "_view_count": null,
            "_view_module": "@jupyter-widgets/base",
            "_view_module_version": "1.2.0",
            "_view_name": "LayoutView",
            "align_content": null,
            "align_items": null,
            "align_self": null,
            "border": null,
            "bottom": null,
            "display": null,
            "flex": null,
            "flex_flow": null,
            "grid_area": null,
            "grid_auto_columns": null,
            "grid_auto_flow": null,
            "grid_auto_rows": null,
            "grid_column": null,
            "grid_gap": null,
            "grid_row": null,
            "grid_template_areas": null,
            "grid_template_columns": null,
            "grid_template_rows": null,
            "height": null,
            "justify_content": null,
            "justify_items": null,
            "left": null,
            "margin": null,
            "max_height": null,
            "max_width": null,
            "min_height": null,
            "min_width": null,
            "object_fit": null,
            "object_position": null,
            "order": null,
            "overflow": null,
            "overflow_x": null,
            "overflow_y": null,
            "padding": null,
            "right": null,
            "top": null,
            "visibility": null,
            "width": null
          }
        },
        "e69f15cc617745808c54227088bb9c08": {
          "model_module": "@jupyter-widgets/controls",
          "model_name": "DescriptionStyleModel",
          "model_module_version": "1.5.0",
          "state": {
            "_model_module": "@jupyter-widgets/controls",
            "_model_module_version": "1.5.0",
            "_model_name": "DescriptionStyleModel",
            "_view_count": null,
            "_view_module": "@jupyter-widgets/base",
            "_view_module_version": "1.2.0",
            "_view_name": "StyleView",
            "description_width": ""
          }
        },
        "1863aa5d2a754092a00ec0ead54d42d6": {
          "model_module": "@jupyter-widgets/controls",
          "model_name": "HBoxModel",
          "model_module_version": "1.5.0",
          "state": {
            "_dom_classes": [],
            "_model_module": "@jupyter-widgets/controls",
            "_model_module_version": "1.5.0",
            "_model_name": "HBoxModel",
            "_view_count": null,
            "_view_module": "@jupyter-widgets/controls",
            "_view_module_version": "1.5.0",
            "_view_name": "HBoxView",
            "box_style": "",
            "children": [
              "IPY_MODEL_22f650dbd778466589526698fdcf4c99",
              "IPY_MODEL_61d2dc49be4844a585558acf2c7f8f14",
              "IPY_MODEL_bb995435997f419ca89e0aa4cdccccb3"
            ],
            "layout": "IPY_MODEL_c7d8eb7b9e2944a49df1c6ad7daa26d2"
          }
        },
        "22f650dbd778466589526698fdcf4c99": {
          "model_module": "@jupyter-widgets/controls",
          "model_name": "HTMLModel",
          "model_module_version": "1.5.0",
          "state": {
            "_dom_classes": [],
            "_model_module": "@jupyter-widgets/controls",
            "_model_module_version": "1.5.0",
            "_model_name": "HTMLModel",
            "_view_count": null,
            "_view_module": "@jupyter-widgets/controls",
            "_view_module_version": "1.5.0",
            "_view_name": "HTMLView",
            "description": "",
            "description_tooltip": null,
            "layout": "IPY_MODEL_8b26af886608473fbc932b71d795f9f1",
            "placeholder": "​",
            "style": "IPY_MODEL_fd6789c0e058405398e8d2d4df975596",
            "value": "Downloading (…)lve/main/config.json: 100%"
          }
        },
        "61d2dc49be4844a585558acf2c7f8f14": {
          "model_module": "@jupyter-widgets/controls",
          "model_name": "FloatProgressModel",
          "model_module_version": "1.5.0",
          "state": {
            "_dom_classes": [],
            "_model_module": "@jupyter-widgets/controls",
            "_model_module_version": "1.5.0",
            "_model_name": "FloatProgressModel",
            "_view_count": null,
            "_view_module": "@jupyter-widgets/controls",
            "_view_module_version": "1.5.0",
            "_view_name": "ProgressView",
            "bar_style": "success",
            "description": "",
            "description_tooltip": null,
            "layout": "IPY_MODEL_94c2a496acee470fa6ec69346910969e",
            "max": 570,
            "min": 0,
            "orientation": "horizontal",
            "style": "IPY_MODEL_72e8b49095d548c8b65fc7154b832949",
            "value": 570
          }
        },
        "bb995435997f419ca89e0aa4cdccccb3": {
          "model_module": "@jupyter-widgets/controls",
          "model_name": "HTMLModel",
          "model_module_version": "1.5.0",
          "state": {
            "_dom_classes": [],
            "_model_module": "@jupyter-widgets/controls",
            "_model_module_version": "1.5.0",
            "_model_name": "HTMLModel",
            "_view_count": null,
            "_view_module": "@jupyter-widgets/controls",
            "_view_module_version": "1.5.0",
            "_view_name": "HTMLView",
            "description": "",
            "description_tooltip": null,
            "layout": "IPY_MODEL_13107851455745d9a7fb610c13beaa6a",
            "placeholder": "​",
            "style": "IPY_MODEL_5cf6222acf0d474d9ab2619274b4e8a6",
            "value": " 570/570 [00:00&lt;00:00, 50.2kB/s]"
          }
        },
        "c7d8eb7b9e2944a49df1c6ad7daa26d2": {
          "model_module": "@jupyter-widgets/base",
          "model_name": "LayoutModel",
          "model_module_version": "1.2.0",
          "state": {
            "_model_module": "@jupyter-widgets/base",
            "_model_module_version": "1.2.0",
            "_model_name": "LayoutModel",
            "_view_count": null,
            "_view_module": "@jupyter-widgets/base",
            "_view_module_version": "1.2.0",
            "_view_name": "LayoutView",
            "align_content": null,
            "align_items": null,
            "align_self": null,
            "border": null,
            "bottom": null,
            "display": null,
            "flex": null,
            "flex_flow": null,
            "grid_area": null,
            "grid_auto_columns": null,
            "grid_auto_flow": null,
            "grid_auto_rows": null,
            "grid_column": null,
            "grid_gap": null,
            "grid_row": null,
            "grid_template_areas": null,
            "grid_template_columns": null,
            "grid_template_rows": null,
            "height": null,
            "justify_content": null,
            "justify_items": null,
            "left": null,
            "margin": null,
            "max_height": null,
            "max_width": null,
            "min_height": null,
            "min_width": null,
            "object_fit": null,
            "object_position": null,
            "order": null,
            "overflow": null,
            "overflow_x": null,
            "overflow_y": null,
            "padding": null,
            "right": null,
            "top": null,
            "visibility": null,
            "width": null
          }
        },
        "8b26af886608473fbc932b71d795f9f1": {
          "model_module": "@jupyter-widgets/base",
          "model_name": "LayoutModel",
          "model_module_version": "1.2.0",
          "state": {
            "_model_module": "@jupyter-widgets/base",
            "_model_module_version": "1.2.0",
            "_model_name": "LayoutModel",
            "_view_count": null,
            "_view_module": "@jupyter-widgets/base",
            "_view_module_version": "1.2.0",
            "_view_name": "LayoutView",
            "align_content": null,
            "align_items": null,
            "align_self": null,
            "border": null,
            "bottom": null,
            "display": null,
            "flex": null,
            "flex_flow": null,
            "grid_area": null,
            "grid_auto_columns": null,
            "grid_auto_flow": null,
            "grid_auto_rows": null,
            "grid_column": null,
            "grid_gap": null,
            "grid_row": null,
            "grid_template_areas": null,
            "grid_template_columns": null,
            "grid_template_rows": null,
            "height": null,
            "justify_content": null,
            "justify_items": null,
            "left": null,
            "margin": null,
            "max_height": null,
            "max_width": null,
            "min_height": null,
            "min_width": null,
            "object_fit": null,
            "object_position": null,
            "order": null,
            "overflow": null,
            "overflow_x": null,
            "overflow_y": null,
            "padding": null,
            "right": null,
            "top": null,
            "visibility": null,
            "width": null
          }
        },
        "fd6789c0e058405398e8d2d4df975596": {
          "model_module": "@jupyter-widgets/controls",
          "model_name": "DescriptionStyleModel",
          "model_module_version": "1.5.0",
          "state": {
            "_model_module": "@jupyter-widgets/controls",
            "_model_module_version": "1.5.0",
            "_model_name": "DescriptionStyleModel",
            "_view_count": null,
            "_view_module": "@jupyter-widgets/base",
            "_view_module_version": "1.2.0",
            "_view_name": "StyleView",
            "description_width": ""
          }
        },
        "94c2a496acee470fa6ec69346910969e": {
          "model_module": "@jupyter-widgets/base",
          "model_name": "LayoutModel",
          "model_module_version": "1.2.0",
          "state": {
            "_model_module": "@jupyter-widgets/base",
            "_model_module_version": "1.2.0",
            "_model_name": "LayoutModel",
            "_view_count": null,
            "_view_module": "@jupyter-widgets/base",
            "_view_module_version": "1.2.0",
            "_view_name": "LayoutView",
            "align_content": null,
            "align_items": null,
            "align_self": null,
            "border": null,
            "bottom": null,
            "display": null,
            "flex": null,
            "flex_flow": null,
            "grid_area": null,
            "grid_auto_columns": null,
            "grid_auto_flow": null,
            "grid_auto_rows": null,
            "grid_column": null,
            "grid_gap": null,
            "grid_row": null,
            "grid_template_areas": null,
            "grid_template_columns": null,
            "grid_template_rows": null,
            "height": null,
            "justify_content": null,
            "justify_items": null,
            "left": null,
            "margin": null,
            "max_height": null,
            "max_width": null,
            "min_height": null,
            "min_width": null,
            "object_fit": null,
            "object_position": null,
            "order": null,
            "overflow": null,
            "overflow_x": null,
            "overflow_y": null,
            "padding": null,
            "right": null,
            "top": null,
            "visibility": null,
            "width": null
          }
        },
        "72e8b49095d548c8b65fc7154b832949": {
          "model_module": "@jupyter-widgets/controls",
          "model_name": "ProgressStyleModel",
          "model_module_version": "1.5.0",
          "state": {
            "_model_module": "@jupyter-widgets/controls",
            "_model_module_version": "1.5.0",
            "_model_name": "ProgressStyleModel",
            "_view_count": null,
            "_view_module": "@jupyter-widgets/base",
            "_view_module_version": "1.2.0",
            "_view_name": "StyleView",
            "bar_color": null,
            "description_width": ""
          }
        },
        "13107851455745d9a7fb610c13beaa6a": {
          "model_module": "@jupyter-widgets/base",
          "model_name": "LayoutModel",
          "model_module_version": "1.2.0",
          "state": {
            "_model_module": "@jupyter-widgets/base",
            "_model_module_version": "1.2.0",
            "_model_name": "LayoutModel",
            "_view_count": null,
            "_view_module": "@jupyter-widgets/base",
            "_view_module_version": "1.2.0",
            "_view_name": "LayoutView",
            "align_content": null,
            "align_items": null,
            "align_self": null,
            "border": null,
            "bottom": null,
            "display": null,
            "flex": null,
            "flex_flow": null,
            "grid_area": null,
            "grid_auto_columns": null,
            "grid_auto_flow": null,
            "grid_auto_rows": null,
            "grid_column": null,
            "grid_gap": null,
            "grid_row": null,
            "grid_template_areas": null,
            "grid_template_columns": null,
            "grid_template_rows": null,
            "height": null,
            "justify_content": null,
            "justify_items": null,
            "left": null,
            "margin": null,
            "max_height": null,
            "max_width": null,
            "min_height": null,
            "min_width": null,
            "object_fit": null,
            "object_position": null,
            "order": null,
            "overflow": null,
            "overflow_x": null,
            "overflow_y": null,
            "padding": null,
            "right": null,
            "top": null,
            "visibility": null,
            "width": null
          }
        },
        "5cf6222acf0d474d9ab2619274b4e8a6": {
          "model_module": "@jupyter-widgets/controls",
          "model_name": "DescriptionStyleModel",
          "model_module_version": "1.5.0",
          "state": {
            "_model_module": "@jupyter-widgets/controls",
            "_model_module_version": "1.5.0",
            "_model_name": "DescriptionStyleModel",
            "_view_count": null,
            "_view_module": "@jupyter-widgets/base",
            "_view_module_version": "1.2.0",
            "_view_name": "StyleView",
            "description_width": ""
          }
        },
        "7f97d7cde688408683c84744434ce01a": {
          "model_module": "@jupyter-widgets/controls",
          "model_name": "HBoxModel",
          "model_module_version": "1.5.0",
          "state": {
            "_dom_classes": [],
            "_model_module": "@jupyter-widgets/controls",
            "_model_module_version": "1.5.0",
            "_model_name": "HBoxModel",
            "_view_count": null,
            "_view_module": "@jupyter-widgets/controls",
            "_view_module_version": "1.5.0",
            "_view_name": "HBoxView",
            "box_style": "",
            "children": [
              "IPY_MODEL_fa97615a8c2d4b9fac376b4bfc67e4d7",
              "IPY_MODEL_ee986696841d4d679b9bccbe16bb719d",
              "IPY_MODEL_7d1400dcddea441e962e1a4764cd198e"
            ],
            "layout": "IPY_MODEL_28e65fd3d955452c85b72e5a4de09841"
          }
        },
        "fa97615a8c2d4b9fac376b4bfc67e4d7": {
          "model_module": "@jupyter-widgets/controls",
          "model_name": "HTMLModel",
          "model_module_version": "1.5.0",
          "state": {
            "_dom_classes": [],
            "_model_module": "@jupyter-widgets/controls",
            "_model_module_version": "1.5.0",
            "_model_name": "HTMLModel",
            "_view_count": null,
            "_view_module": "@jupyter-widgets/controls",
            "_view_module_version": "1.5.0",
            "_view_name": "HTMLView",
            "description": "",
            "description_tooltip": null,
            "layout": "IPY_MODEL_0c6c8408d13b40d597c42a5ec3d9f531",
            "placeholder": "​",
            "style": "IPY_MODEL_d658e27528d24fdb98ea6e0ca0a8f748",
            "value": "Downloading model.safetensors: 100%"
          }
        },
        "ee986696841d4d679b9bccbe16bb719d": {
          "model_module": "@jupyter-widgets/controls",
          "model_name": "FloatProgressModel",
          "model_module_version": "1.5.0",
          "state": {
            "_dom_classes": [],
            "_model_module": "@jupyter-widgets/controls",
            "_model_module_version": "1.5.0",
            "_model_name": "FloatProgressModel",
            "_view_count": null,
            "_view_module": "@jupyter-widgets/controls",
            "_view_module_version": "1.5.0",
            "_view_name": "ProgressView",
            "bar_style": "success",
            "description": "",
            "description_tooltip": null,
            "layout": "IPY_MODEL_0ad10d9c4b51498c843f0fe359276cc5",
            "max": 435755784,
            "min": 0,
            "orientation": "horizontal",
            "style": "IPY_MODEL_c4295dc5fb6142b4bb524b1cae496b92",
            "value": 435755784
          }
        },
        "7d1400dcddea441e962e1a4764cd198e": {
          "model_module": "@jupyter-widgets/controls",
          "model_name": "HTMLModel",
          "model_module_version": "1.5.0",
          "state": {
            "_dom_classes": [],
            "_model_module": "@jupyter-widgets/controls",
            "_model_module_version": "1.5.0",
            "_model_name": "HTMLModel",
            "_view_count": null,
            "_view_module": "@jupyter-widgets/controls",
            "_view_module_version": "1.5.0",
            "_view_name": "HTMLView",
            "description": "",
            "description_tooltip": null,
            "layout": "IPY_MODEL_c80dac7747104b3c88ae0fde02f4e109",
            "placeholder": "​",
            "style": "IPY_MODEL_9ff590c3063847919db01e116f6c12cc",
            "value": " 436M/436M [00:00&lt;00:00, 639MB/s]"
          }
        },
        "28e65fd3d955452c85b72e5a4de09841": {
          "model_module": "@jupyter-widgets/base",
          "model_name": "LayoutModel",
          "model_module_version": "1.2.0",
          "state": {
            "_model_module": "@jupyter-widgets/base",
            "_model_module_version": "1.2.0",
            "_model_name": "LayoutModel",
            "_view_count": null,
            "_view_module": "@jupyter-widgets/base",
            "_view_module_version": "1.2.0",
            "_view_name": "LayoutView",
            "align_content": null,
            "align_items": null,
            "align_self": null,
            "border": null,
            "bottom": null,
            "display": null,
            "flex": null,
            "flex_flow": null,
            "grid_area": null,
            "grid_auto_columns": null,
            "grid_auto_flow": null,
            "grid_auto_rows": null,
            "grid_column": null,
            "grid_gap": null,
            "grid_row": null,
            "grid_template_areas": null,
            "grid_template_columns": null,
            "grid_template_rows": null,
            "height": null,
            "justify_content": null,
            "justify_items": null,
            "left": null,
            "margin": null,
            "max_height": null,
            "max_width": null,
            "min_height": null,
            "min_width": null,
            "object_fit": null,
            "object_position": null,
            "order": null,
            "overflow": null,
            "overflow_x": null,
            "overflow_y": null,
            "padding": null,
            "right": null,
            "top": null,
            "visibility": null,
            "width": null
          }
        },
        "0c6c8408d13b40d597c42a5ec3d9f531": {
          "model_module": "@jupyter-widgets/base",
          "model_name": "LayoutModel",
          "model_module_version": "1.2.0",
          "state": {
            "_model_module": "@jupyter-widgets/base",
            "_model_module_version": "1.2.0",
            "_model_name": "LayoutModel",
            "_view_count": null,
            "_view_module": "@jupyter-widgets/base",
            "_view_module_version": "1.2.0",
            "_view_name": "LayoutView",
            "align_content": null,
            "align_items": null,
            "align_self": null,
            "border": null,
            "bottom": null,
            "display": null,
            "flex": null,
            "flex_flow": null,
            "grid_area": null,
            "grid_auto_columns": null,
            "grid_auto_flow": null,
            "grid_auto_rows": null,
            "grid_column": null,
            "grid_gap": null,
            "grid_row": null,
            "grid_template_areas": null,
            "grid_template_columns": null,
            "grid_template_rows": null,
            "height": null,
            "justify_content": null,
            "justify_items": null,
            "left": null,
            "margin": null,
            "max_height": null,
            "max_width": null,
            "min_height": null,
            "min_width": null,
            "object_fit": null,
            "object_position": null,
            "order": null,
            "overflow": null,
            "overflow_x": null,
            "overflow_y": null,
            "padding": null,
            "right": null,
            "top": null,
            "visibility": null,
            "width": null
          }
        },
        "d658e27528d24fdb98ea6e0ca0a8f748": {
          "model_module": "@jupyter-widgets/controls",
          "model_name": "DescriptionStyleModel",
          "model_module_version": "1.5.0",
          "state": {
            "_model_module": "@jupyter-widgets/controls",
            "_model_module_version": "1.5.0",
            "_model_name": "DescriptionStyleModel",
            "_view_count": null,
            "_view_module": "@jupyter-widgets/base",
            "_view_module_version": "1.2.0",
            "_view_name": "StyleView",
            "description_width": ""
          }
        },
        "0ad10d9c4b51498c843f0fe359276cc5": {
          "model_module": "@jupyter-widgets/base",
          "model_name": "LayoutModel",
          "model_module_version": "1.2.0",
          "state": {
            "_model_module": "@jupyter-widgets/base",
            "_model_module_version": "1.2.0",
            "_model_name": "LayoutModel",
            "_view_count": null,
            "_view_module": "@jupyter-widgets/base",
            "_view_module_version": "1.2.0",
            "_view_name": "LayoutView",
            "align_content": null,
            "align_items": null,
            "align_self": null,
            "border": null,
            "bottom": null,
            "display": null,
            "flex": null,
            "flex_flow": null,
            "grid_area": null,
            "grid_auto_columns": null,
            "grid_auto_flow": null,
            "grid_auto_rows": null,
            "grid_column": null,
            "grid_gap": null,
            "grid_row": null,
            "grid_template_areas": null,
            "grid_template_columns": null,
            "grid_template_rows": null,
            "height": null,
            "justify_content": null,
            "justify_items": null,
            "left": null,
            "margin": null,
            "max_height": null,
            "max_width": null,
            "min_height": null,
            "min_width": null,
            "object_fit": null,
            "object_position": null,
            "order": null,
            "overflow": null,
            "overflow_x": null,
            "overflow_y": null,
            "padding": null,
            "right": null,
            "top": null,
            "visibility": null,
            "width": null
          }
        },
        "c4295dc5fb6142b4bb524b1cae496b92": {
          "model_module": "@jupyter-widgets/controls",
          "model_name": "ProgressStyleModel",
          "model_module_version": "1.5.0",
          "state": {
            "_model_module": "@jupyter-widgets/controls",
            "_model_module_version": "1.5.0",
            "_model_name": "ProgressStyleModel",
            "_view_count": null,
            "_view_module": "@jupyter-widgets/base",
            "_view_module_version": "1.2.0",
            "_view_name": "StyleView",
            "bar_color": null,
            "description_width": ""
          }
        },
        "c80dac7747104b3c88ae0fde02f4e109": {
          "model_module": "@jupyter-widgets/base",
          "model_name": "LayoutModel",
          "model_module_version": "1.2.0",
          "state": {
            "_model_module": "@jupyter-widgets/base",
            "_model_module_version": "1.2.0",
            "_model_name": "LayoutModel",
            "_view_count": null,
            "_view_module": "@jupyter-widgets/base",
            "_view_module_version": "1.2.0",
            "_view_name": "LayoutView",
            "align_content": null,
            "align_items": null,
            "align_self": null,
            "border": null,
            "bottom": null,
            "display": null,
            "flex": null,
            "flex_flow": null,
            "grid_area": null,
            "grid_auto_columns": null,
            "grid_auto_flow": null,
            "grid_auto_rows": null,
            "grid_column": null,
            "grid_gap": null,
            "grid_row": null,
            "grid_template_areas": null,
            "grid_template_columns": null,
            "grid_template_rows": null,
            "height": null,
            "justify_content": null,
            "justify_items": null,
            "left": null,
            "margin": null,
            "max_height": null,
            "max_width": null,
            "min_height": null,
            "min_width": null,
            "object_fit": null,
            "object_position": null,
            "order": null,
            "overflow": null,
            "overflow_x": null,
            "overflow_y": null,
            "padding": null,
            "right": null,
            "top": null,
            "visibility": null,
            "width": null
          }
        },
        "9ff590c3063847919db01e116f6c12cc": {
          "model_module": "@jupyter-widgets/controls",
          "model_name": "DescriptionStyleModel",
          "model_module_version": "1.5.0",
          "state": {
            "_model_module": "@jupyter-widgets/controls",
            "_model_module_version": "1.5.0",
            "_model_name": "DescriptionStyleModel",
            "_view_count": null,
            "_view_module": "@jupyter-widgets/base",
            "_view_module_version": "1.2.0",
            "_view_name": "StyleView",
            "description_width": ""
          }
        }
      }
    }
  },
  "nbformat": 4,
  "nbformat_minor": 0
}